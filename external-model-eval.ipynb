{
 "cells": [
  {
   "cell_type": "code",
   "execution_count": 1,
   "metadata": {},
   "outputs": [],
   "source": [
    "import torch\n",
    "from tqdm import tqdm\n",
    "from datasets import load_dataset\n",
    "\n",
    "assert torch.cuda.is_available(), \"CUDA is not available\"\n",
    "device = torch.device(\"cuda\")"
   ]
  },
  {
   "cell_type": "markdown",
   "metadata": {},
   "source": [
    "## FinBERT-tone\n",
    "From huggingface [yiyanghkust/finbert-tone](https://huggingface.co/yiyanghkust/finbert-tone)"
   ]
  },
  {
   "cell_type": "code",
   "execution_count": 2,
   "metadata": {},
   "outputs": [],
   "source": [
    "from transformers import BertTokenizer, BertForSequenceClassification\n",
    "\n",
    "model_id = 'yiyanghkust/finbert-tone'\n",
    "tokenizer = BertTokenizer.from_pretrained(model_id)\n",
    "model = BertForSequenceClassification.from_pretrained(model_id, num_labels=3).to(device)\n",
    "\n",
    "labels = [\"Neutral\", \"Positive\", \"Negative\"]"
   ]
  },
  {
   "cell_type": "code",
   "execution_count": null,
   "metadata": {},
   "outputs": [],
   "source": [
    "def classifier_evaluate(model, testset, labels):\n",
    "    correct = 0\n",
    "    prog_bar = tqdm(testset)\n",
    "    for i, example in enumerate(prog_bar):\n",
    "        input_ids = torch.tensor(example[\"input_ids\"], device=device)\n",
    "        attn_mask = torch.tensor(example[\"attention_mask\"], device=device)\n",
    "\n",
    "        out = model.forward(input_ids=input_ids,\n",
    "                            attention_mask=attn_mask)\n",
    "        pred = torch.argmax(out.logits.cpu())\n",
    "        if example[\"options\"][example[\"gold_index\"]] == labels[pred]:\n",
    "            correct += 1\n",
    "\n",
    "        prog_bar.set_description(f\"{100 * correct / (i+1):.2f}\")\n",
    "    \n",
    "    return {\n",
    "        \"accuracy\": correct / len(testset)\n",
    "    }"
   ]
  },
  {
   "cell_type": "code",
   "execution_count": null,
   "metadata": {},
   "outputs": [
    {
     "data": {
      "application/vnd.jupyter.widget-view+json": {
       "model_id": "e4121285478c420d940019f3258927a4",
       "version_major": 2,
       "version_minor": 0
      },
      "text/plain": [
       "Map:   0%|          | 0/970 [00:00<?, ? examples/s]"
      ]
     },
     "metadata": {},
     "output_type": "display_data"
    }
   ],
   "source": [
    "def finbert_preprocess(example, max_length=512):\n",
    "    zeroshot: str = example['input'].rsplit(\"\\n\\n\", maxsplit=1)[-1]\n",
    "    index = zeroshot.find(\"Question: what is the sentiment?\")\n",
    "    return tokenizer(zeroshot[:index],\n",
    "                     truncation=True,\n",
    "                     padding=\"max_length\",\n",
    "                     max_length=max_length,\n",
    "                     return_tensors=\"pt\")\n",
    "\n",
    "testset_adaptllm = load_dataset(\"AdaptLLM/finance-tasks\", \"FPB\", split=\"test\").map(finbert_preprocess, batched=False)"
   ]
  },
  {
   "cell_type": "code",
   "execution_count": null,
   "metadata": {},
   "outputs": [
    {
     "name": "stderr",
     "output_type": "stream",
     "text": [
      "59.07: 100%|██████████| 970/970 [00:15<00:00, 63.12it/s]"
     ]
    },
    {
     "name": "stdout",
     "output_type": "stream",
     "text": [
      "{'accuracy': 0.5907216494845361}\n"
     ]
    },
    {
     "name": "stderr",
     "output_type": "stream",
     "text": [
      "\n"
     ]
    }
   ],
   "source": [
    "results = classifier_evaluate(model,\n",
    "                              testset_adaptllm,\n",
    "                              labels)\n",
    "print(results)"
   ]
  }
 ],
 "metadata": {
  "kernelspec": {
   "display_name": "venv",
   "language": "python",
   "name": "python3"
  },
  "language_info": {
   "codemirror_mode": {
    "name": "ipython",
    "version": 3
   },
   "file_extension": ".py",
   "mimetype": "text/x-python",
   "name": "python",
   "nbconvert_exporter": "python",
   "pygments_lexer": "ipython3",
   "version": "3.12.2"
  }
 },
 "nbformat": 4,
 "nbformat_minor": 2
}
