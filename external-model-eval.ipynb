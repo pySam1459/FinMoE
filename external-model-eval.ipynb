{
 "cells": [
  {
   "cell_type": "code",
   "execution_count": null,
   "metadata": {},
   "outputs": [],
   "source": [
    "import torch\n",
    "from pathlib import Path\n",
    "from tqdm import tqdm\n",
    "from huggingface_hub import constants as hub_c\n",
    "\n",
    "from evals import load_eval_dataset, get_tensors\n",
    "from utils import get_dataset_args\n",
    "\n",
    "assert torch.cuda.is_available(), \"CUDA is not available\"\n",
    "device = torch.device(\"cuda\")"
   ]
  },
  {
   "cell_type": "markdown",
   "metadata": {},
   "source": [
    "## FinBERT-tone\n",
    "From huggingface [yiyanghkust/finbert-tone](https://huggingface.co/yiyanghkust/finbert-tone)"
   ]
  },
  {
   "cell_type": "code",
   "execution_count": 2,
   "metadata": {},
   "outputs": [],
   "source": [
    "from transformers import BertTokenizer, BertForSequenceClassification\n",
    "\n",
    "model_id = 'yiyanghkust/finbert-tone'\n",
    "tokenizer = BertTokenizer.from_pretrained(model_id)\n",
    "model = BertForSequenceClassification.from_pretrained(model_id, num_labels=3).to(device)\n",
    "\n",
    "labels = [\"Neutral\", \"Positive\", \"Negative\"]\n",
    "\n",
    "finbert_args = get_dataset_args(tokenizer, Path(hub_c.HF_HUB_CACHE))\n",
    "finbert_args.prompt_templates[\"FPB\"] = \"{0}\""
   ]
  },
  {
   "cell_type": "code",
   "execution_count": 3,
   "metadata": {},
   "outputs": [],
   "source": [
    "def classifier_evaluate(model, testset, labels):\n",
    "    correct = 0\n",
    "    prog_bar = tqdm(testset)\n",
    "    for i, example in enumerate(prog_bar):\n",
    "        input_ids, attn_mask = get_tensors(example)\n",
    "\n",
    "        out = model.forward(input_ids=input_ids.to(device),\n",
    "                            attention_mask=attn_mask.to(device))\n",
    "        pred = torch.argmax(out.logits.cpu())\n",
    "\n",
    "        if example[\"options\"][example[\"gold_index\"]] == labels[pred]:\n",
    "            correct += 1\n",
    "\n",
    "        prog_bar.set_description(f\"{100 * correct / (i+1):.2f}\")\n",
    "    \n",
    "    return {\n",
    "        \"accuracy\": correct / len(testset)\n",
    "    }"
   ]
  },
  {
   "cell_type": "code",
   "execution_count": null,
   "metadata": {},
   "outputs": [],
   "source": [
    "dataset_id = \"FPB\"\n",
    "testset = load_eval_dataset(tokenizer, dataset_id, finbert_args)\n",
    "\n",
    "results = classifier_evaluate(model, testset, labels)\n",
    "print(results)"
   ]
  }
 ],
 "metadata": {
  "kernelspec": {
   "display_name": "venv",
   "language": "python",
   "name": "python3"
  },
  "language_info": {
   "codemirror_mode": {
    "name": "ipython",
    "version": 3
   },
   "file_extension": ".py",
   "mimetype": "text/x-python",
   "name": "python",
   "nbconvert_exporter": "python",
   "pygments_lexer": "ipython3",
   "version": "3.12.2"
  }
 },
 "nbformat": 4,
 "nbformat_minor": 2
}
