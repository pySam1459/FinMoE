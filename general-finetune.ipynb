{
 "cells": [
  {
   "cell_type": "code",
   "execution_count": 1,
   "metadata": {},
   "outputs": [],
   "source": [
    "import torch\n",
    "import pandas as pd\n",
    "from functools import partial\n",
    "from pathlib import Path\n",
    "from datasets import Dataset, interleave_datasets\n",
    "from peft import get_peft_model, LoraConfig, TaskType, PeftModel\n",
    "from transformers import Trainer, TrainingArguments, AutoTokenizer, DataCollatorForLanguageModeling\n",
    "from transformers.models.llama.modeling_llama import LlamaForCausalLM\n",
    "\n",
    "from FinMoE import FinMoE, FinMoEConfig\n",
    "from utils import DatasetArgs, get_dataset_args\n",
    "\n",
    "assert torch.cuda.is_available(), \"CUDA not available\"\n",
    "device = torch.device(\"cuda\")\n",
    "\n",
    "seed = 42\n",
    "torch.manual_seed(seed)\n",
    "\n",
    "MAX_LENGTH = 512\n",
    "dataset_cache_path = Path(r\"D:/datasets/general-3-tasks\")\n",
    "\n",
    "model_id = \"meta-llama/Llama-3.2-1B\"\n",
    "tokenizer = AutoTokenizer.from_pretrained(model_id)\n",
    "if tokenizer.pad_token is None:\n",
    "    tokenizer.pad_token = tokenizer.eos_token"
   ]
  },
  {
   "cell_type": "markdown",
   "metadata": {},
   "source": [
    "## Dataset setup"
   ]
  },
  {
   "cell_type": "code",
   "execution_count": 2,
   "metadata": {},
   "outputs": [],
   "source": [
    "hub_basepath = Path(r\"C:\\Users\\samba\\.cache\\huggingface\\hub\")\n",
    "args = get_dataset_args(tokenizer, hub_basepath)"
   ]
  },
  {
   "cell_type": "markdown",
   "metadata": {},
   "source": [
    "## Load and Preprocess Dataset"
   ]
  },
  {
   "cell_type": "code",
   "execution_count": 3,
   "metadata": {},
   "outputs": [],
   "source": [
    "def train_preprocess_causal(args: DatasetArgs, dataset_id: str, example: dict):\n",
    "    # Create prompt and target text\n",
    "    prompt_args = [example[key] for key in args.prompt_args[dataset_id]]\n",
    "    prompt = args.prompt_templates[dataset_id].format(*prompt_args)\n",
    "\n",
    "    target = args.id2labels[dataset_id][example[\"label\"]]\n",
    "    full_text = prompt + target\n",
    "\n",
    "    # tokenize text\n",
    "    tokenized = tokenizer(full_text,\n",
    "                          truncation=True,\n",
    "                          padding=\"max_length\",\n",
    "                          max_length=MAX_LENGTH)\n",
    "    \n",
    "    # add padding tokens\n",
    "    prompt_tokenized = tokenizer(prompt,\n",
    "                              truncation=True,\n",
    "                              max_length=MAX_LENGTH)\n",
    "    prompt_length = len(prompt_tokenized[\"input_ids\"])\n",
    "\n",
    "    labels = tokenized[\"input_ids\"].copy()\n",
    "    labels[:prompt_length] = [-100] * prompt_length\n",
    "    tokenized[\"labels\"] = labels\n",
    "    return tokenized\n",
    "\n",
    "def train_preprocess_tokenclass(args: DatasetArgs, dataset_id: str, example: dict):\n",
    "    # Create prompt and target text\n",
    "    prompt_args = [example[key] for key in args.prompt_args[dataset_id]]\n",
    "    prompt = args.prompt_templates[dataset_id].format(*prompt_args)\n",
    "\n",
    "    # tokenize text\n",
    "    tokenized = tokenizer(prompt,\n",
    "                          truncation=True,\n",
    "                          padding=\"max_length\",\n",
    "                          max_length=MAX_LENGTH)\n",
    "\n",
    "    # tokenize and index label\n",
    "    target = args.id2labels[dataset_id][example[\"label\"]]\n",
    "    token_target = tokenizer.encode(target, add_special_tokens=False)[0]\n",
    "    label = args.token_list.index(token_target)\n",
    "    tokenized[\"labels\"] = label\n",
    "\n",
    "    return tokenized"
   ]
  },
  {
   "cell_type": "code",
   "execution_count": null,
   "metadata": {},
   "outputs": [],
   "source": [
    "nrows_list = [3876, 3876, 3876]\n",
    "dataset_list = []\n",
    "for i, (dataset_id, dataset_path) in enumerate(args.paths.items()):\n",
    "    train_subset = pd.read_csv(dataset_path / \"train.csv\",\n",
    "                                delimiter=args.del_mapping[dataset_id],\n",
    "                                names=args.names_mapping[dataset_id],\n",
    "                                nrows=nrows_list[i])\n",
    "\n",
    "    preprocess_func = partial(train_preprocess_tokenclass, args, dataset_id)\n",
    "    dataset_list.append(Dataset\n",
    "                        .from_pandas(train_subset)\n",
    "                        .map(preprocess_func, batched=False)\n",
    "                        .remove_columns(args.columns[dataset_id]))\n",
    "\n",
    "n_datasets = len(dataset_list)\n",
    "train_dataset = interleave_datasets(dataset_list, \n",
    "                                    probabilities=[1/n_datasets]*n_datasets,\n",
    "                                    seed=seed)"
   ]
  },
  {
   "cell_type": "code",
   "execution_count": null,
   "metadata": {},
   "outputs": [],
   "source": [
    "save_path = dataset_cache_path.with_stem(\"finmoe-tokenclass_balanced-len512\")\n",
    "train_dataset.save_to_disk(save_path)"
   ]
  },
  {
   "cell_type": "code",
   "execution_count": 3,
   "metadata": {},
   "outputs": [],
   "source": [
    "load_path = dataset_cache_path.with_stem(\"finmoe-tokenclass_balanced-len512\")\n",
    "train_dataset = Dataset.load_from_disk(load_path)"
   ]
  },
  {
   "cell_type": "markdown",
   "metadata": {},
   "source": [
    "## Training"
   ]
  },
  {
   "cell_type": "markdown",
   "metadata": {},
   "source": [
    "### Peft Model trainer"
   ]
  },
  {
   "cell_type": "code",
   "execution_count": null,
   "metadata": {},
   "outputs": [],
   "source": [
    "peft_config = LoraConfig(\n",
    "    task_type=TaskType.CAUSAL_LM,\n",
    "    r=8,\n",
    "    lora_alpha=16,\n",
    "    lora_dropout=0.01,\n",
    "    target_modules=[\"q_proj\", \"v_proj\"]\n",
    ")\n",
    "\n",
    "model_id = \"meta-llama/Llama-3.2-1B\"\n",
    "base_model = LlamaForCausalLM.from_pretrained(model_id, torch_dtype=\"float16\")\n",
    "\n",
    "peft_model = get_peft_model(base_model, peft_config)\n",
    "peft_model.print_trainable_parameters()"
   ]
  },
  {
   "cell_type": "code",
   "execution_count": null,
   "metadata": {},
   "outputs": [],
   "source": [
    "data_collator = DataCollatorForLanguageModeling(\n",
    "    tokenizer=tokenizer, mlm=False\n",
    ")\n",
    "\n",
    "out_dir = Path(rf\"D:/models/general-Llama-3_2-1B\")\n",
    "training_args = TrainingArguments(\n",
    "    output_dir=str(out_dir),\n",
    "    num_train_epochs=6,\n",
    "    per_device_train_batch_size=2,\n",
    "    learning_rate=1e-3,\n",
    "    weight_decay=0.01,\n",
    "    warmup_steps=1000,\n",
    "    save_strategy=\"epoch\",\n",
    "    do_train=True,\n",
    ")\n",
    "\n",
    "trainer = Trainer(\n",
    "    model=peft_model,\n",
    "    args=training_args,\n",
    "    train_dataset=train_dataset,\n",
    "    data_collator=data_collator,\n",
    ")"
   ]
  },
  {
   "cell_type": "markdown",
   "metadata": {},
   "source": [
    "### FinMoE trainer"
   ]
  },
  {
   "cell_type": "code",
   "execution_count": null,
   "metadata": {},
   "outputs": [
    {
     "name": "stdout",
     "output_type": "stream",
     "text": [
      "Memory allocated: 4953514496\n",
      "Trainable params:\n",
      "gate.w_gate.weight torch.Size([3, 2048])\n"
     ]
    },
    {
     "name": "stderr",
     "output_type": "stream",
     "text": [
      "max_steps is given, it will override any value given in num_train_epochs\n"
     ]
    }
   ],
   "source": [
    "ckpt_base = Path(r\"D:/models\")\n",
    "\n",
    "expert_ckpt_names = {\"FPB\": \"checkpoint-best\",\n",
    "                     \"Headline\": \"checkpoint-best\",\n",
    "                     \"Topics\": \"checkpoint-best\"}\n",
    "\n",
    "## note: str() wraps path as Path objects are not json serializable\n",
    "expert_ckpts = [str(ckpt_base / f\"expert-Llama-3_2-1B-{expert_name}\" / expert_ckpt_names[expert_name])\n",
    "                for expert_name in args.expert_order]\n",
    "\n",
    "finMoE_config = FinMoEConfig(\n",
    "    # loss_type=\"ForCausalLM\",\n",
    "    loss_type=\"ForTokenClassification\",\n",
    "    num_labels=len(args.token_list),\n",
    "\n",
    "    expert_ckpts=expert_ckpts,\n",
    "    # gating_guassian=0.2,\n",
    "    token_list=args.token_list,\n",
    ")\n",
    "\n",
    "finMoE_model = FinMoE(finMoE_config).to(device)\n",
    "print(\"Memory allocated:\", torch.cuda.memory_allocated())\n",
    "print(\"Trainable params:\")\n",
    "for name, params in finMoE_model.named_parameters():\n",
    "    if params.requires_grad:\n",
    "        print(name, params.shape)\n",
    "\n",
    "\n",
    "## --- use data_collator when training with \"ForCausalLM\" loss\n",
    "# data_collator = DataCollatorForLanguageModeling(\n",
    "#     tokenizer=tokenizer, mlm=False\n",
    "# )\n",
    "\n",
    "max_steps=64\n",
    "out_dir = Path(rf\"D:/models/FinMoE-top3-64steps\")\n",
    "training_args = TrainingArguments(\n",
    "    output_dir=str(out_dir),\n",
    "    max_steps=max_steps,\n",
    "    per_device_train_batch_size=1,\n",
    "    gradient_accumulation_steps=16,\n",
    "    learning_rate=1e-3,\n",
    "    weight_decay=0.01,\n",
    "    warmup_steps=max_steps//2,\n",
    "    logging_steps=4,\n",
    "    save_strategy=\"steps\",\n",
    "    save_steps=max_steps,\n",
    "    do_train=True,\n",
    ")\n",
    "\n",
    "trainer = Trainer(\n",
    "    model=finMoE_model,\n",
    "    args=training_args,\n",
    "    train_dataset=train_dataset,\n",
    "    # data_collator=data_collator,\n",
    ")"
   ]
  },
  {
   "cell_type": "markdown",
   "metadata": {},
   "source": [
    "### Train"
   ]
  },
  {
   "cell_type": "code",
   "execution_count": 5,
   "metadata": {},
   "outputs": [
    {
     "data": {
      "application/vnd.jupyter.widget-view+json": {
       "model_id": "402d270245e94f1ea73cad45705f7445",
       "version_major": 2,
       "version_minor": 0
      },
      "text/plain": [
       "  0%|          | 0/64 [00:00<?, ?it/s]"
      ]
     },
     "metadata": {},
     "output_type": "display_data"
    },
    {
     "name": "stdout",
     "output_type": "stream",
     "text": [
      "{'loss': 19.1301, 'grad_norm': 1840.8421630859375, 'learning_rate': 0.000125, 'epoch': 0.01}\n",
      "{'loss': 3.9299, 'grad_norm': 107.18506622314453, 'learning_rate': 0.00025, 'epoch': 0.01}\n",
      "{'loss': 2.1476, 'grad_norm': 16.01112174987793, 'learning_rate': 0.000375, 'epoch': 0.02}\n",
      "{'loss': 0.8053, 'grad_norm': 24.19095230102539, 'learning_rate': 0.0005, 'epoch': 0.02}\n",
      "{'loss': 2.3128, 'grad_norm': 55.93996810913086, 'learning_rate': 0.000625, 'epoch': 0.03}\n",
      "{'loss': 2.9351, 'grad_norm': 21.010822296142578, 'learning_rate': 0.00075, 'epoch': 0.03}\n",
      "{'loss': 0.6664, 'grad_norm': 16.120859146118164, 'learning_rate': 0.000875, 'epoch': 0.04}\n",
      "{'loss': 2.4318, 'grad_norm': 0.29755476117134094, 'learning_rate': 0.001, 'epoch': 0.04}\n",
      "{'loss': 1.6959, 'grad_norm': 46.28948974609375, 'learning_rate': 0.000875, 'epoch': 0.05}\n",
      "{'loss': 2.8238, 'grad_norm': 111.68728637695312, 'learning_rate': 0.00075, 'epoch': 0.06}\n",
      "{'loss': 0.6024, 'grad_norm': 0.11406492441892624, 'learning_rate': 0.000625, 'epoch': 0.06}\n",
      "{'loss': 0.9889, 'grad_norm': 22.204570770263672, 'learning_rate': 0.0005, 'epoch': 0.07}\n",
      "{'loss': 1.8679, 'grad_norm': 2.152761459350586, 'learning_rate': 0.000375, 'epoch': 0.07}\n",
      "{'loss': 2.9282, 'grad_norm': 62.65010070800781, 'learning_rate': 0.00025, 'epoch': 0.08}\n",
      "{'loss': 0.646, 'grad_norm': 0.6882046461105347, 'learning_rate': 0.000125, 'epoch': 0.08}\n",
      "{'loss': 2.222, 'grad_norm': 41.40443801879883, 'learning_rate': 0.0, 'epoch': 0.09}\n",
      "{'train_runtime': 494.4294, 'train_samples_per_second': 2.071, 'train_steps_per_second': 0.129, 'train_loss': 3.00837929174304, 'epoch': 0.09}\n"
     ]
    },
    {
     "data": {
      "text/plain": [
       "TrainOutput(global_step=64, training_loss=3.00837929174304, metrics={'train_runtime': 494.4294, 'train_samples_per_second': 2.071, 'train_steps_per_second': 0.129, 'total_flos': 3069312478740480.0, 'train_loss': 3.00837929174304, 'epoch': 0.08912873183044652})"
      ]
     },
     "execution_count": 5,
     "metadata": {},
     "output_type": "execute_result"
    }
   ],
   "source": [
    "trainer.train()"
   ]
  },
  {
   "cell_type": "markdown",
   "metadata": {},
   "source": [
    "# Eval"
   ]
  },
  {
   "cell_type": "code",
   "execution_count": 3,
   "metadata": {},
   "outputs": [],
   "source": [
    "from evals import evaluate, evaluate_FinMoE, evaluate_FinMoE_weighted, load_eval_dataset"
   ]
  },
  {
   "cell_type": "code",
   "execution_count": 12,
   "metadata": {},
   "outputs": [
    {
     "name": "stdout",
     "output_type": "stream",
     "text": [
      "Loading FPB dataset from AdaptLLM/finance-tasks\n"
     ]
    }
   ],
   "source": [
    "dataset_id = \"FPB\"\n",
    "testset = load_eval_dataset(tokenizer, dataset_id, args)"
   ]
  },
  {
   "cell_type": "markdown",
   "metadata": {},
   "source": [
    "### Load an expert checkpoint"
   ]
  },
  {
   "cell_type": "code",
   "execution_count": 4,
   "metadata": {},
   "outputs": [],
   "source": [
    "ckpt_path = Path(r\"D:/models/general-Llama-3_2-1B\") / \"checkpoint-best\"\n",
    "\n",
    "model_id = \"meta-llama/Llama-3.2-1B\"\n",
    "base_model = LlamaForCausalLM.from_pretrained(model_id, torch_dtype=\"float16\") #.to(device)\n",
    "expert_model = PeftModel.from_pretrained(base_model, ckpt_path, torch_dtype=\"float16\").eval().to(device)"
   ]
  },
  {
   "cell_type": "code",
   "execution_count": null,
   "metadata": {},
   "outputs": [],
   "source": [
    "results = evaluate(expert_model, tokenizer,\n",
    "                   testset,\n",
    "                   guidance=True,\n",
    "                   token_opts=args.token_opts[dataset_id])\n",
    "print(results)"
   ]
  },
  {
   "cell_type": "markdown",
   "metadata": {},
   "source": [
    "### Load a FinMoE checkpoint"
   ]
  },
  {
   "cell_type": "code",
   "execution_count": 5,
   "metadata": {},
   "outputs": [],
   "source": [
    "ckpt_path = Path(r\"D:/models/FinMoE-top3\") / \"checkpoint-3590\"\n",
    "# ckpt_path = Path(r\"D:/models/FinMoE-top3-64steps\") / \"checkpoint-64\"\n",
    "finMoE_model = FinMoE.load_pretrained(ckpt_path).to(device).eval()"
   ]
  },
  {
   "cell_type": "code",
   "execution_count": 6,
   "metadata": {},
   "outputs": [
    {
     "name": "stderr",
     "output_type": "stream",
     "text": [
      "Routing experts: 100%|██████████| 970/970 [00:50<00:00, 19.17it/s]\n",
      "Evaluating | 54.95: 100%|██████████| 970/970 [01:01<00:00, 15.76it/s]"
     ]
    },
    {
     "name": "stdout",
     "output_type": "stream",
     "text": [
      "{'accuracy': 0.5494845360824743, 'n_correct': 533, 'n_total': 970}\n"
     ]
    },
    {
     "name": "stderr",
     "output_type": "stream",
     "text": [
      "\n"
     ]
    }
   ],
   "source": [
    "results = evaluate_FinMoE(finMoE_model, tokenizer,\n",
    "                          testset,\n",
    "                          args.token_opts[dataset_id])\n",
    "print(results)"
   ]
  },
  {
   "cell_type": "code",
   "execution_count": 13,
   "metadata": {},
   "outputs": [
    {
     "name": "stderr",
     "output_type": "stream",
     "text": [
      "Routing experts: 100%|██████████| 970/970 [00:49<00:00, 19.60it/s]\n",
      "Evaluating: 100%|██████████| 2910/2910 [02:58<00:00, 16.28it/s]"
     ]
    },
    {
     "name": "stdout",
     "output_type": "stream",
     "text": [
      "{'accuracy': tensor(0.4948), 'n_correct': tensor(480), 'n_total': 970}\n"
     ]
    },
    {
     "name": "stderr",
     "output_type": "stream",
     "text": [
      "\n"
     ]
    }
   ],
   "source": [
    "results = evaluate_FinMoE_weighted(finMoE_model,\n",
    "                                   testset,\n",
    "                                   dataset_id,\n",
    "                                   args)\n",
    "print(results)"
   ]
  },
  {
   "cell_type": "code",
   "execution_count": null,
   "metadata": {},
   "outputs": [],
   "source": [
    "# FinMoE = 1238376448\n",
    "# 1 adapter = 851968\n",
    "# llama  = 1235814400\n",
    "# w_gate = 6144\n",
    "# 1235814400 + 851968 * 3 + 6144 == 1238376448"
   ]
  },
  {
   "cell_type": "code",
   "execution_count": null,
   "metadata": {},
   "outputs": [],
   "source": []
  }
 ],
 "metadata": {
  "kernelspec": {
   "display_name": "venv",
   "language": "python",
   "name": "python3"
  },
  "language_info": {
   "codemirror_mode": {
    "name": "ipython",
    "version": 3
   },
   "file_extension": ".py",
   "mimetype": "text/x-python",
   "name": "python",
   "nbconvert_exporter": "python",
   "pygments_lexer": "ipython3",
   "version": "3.12.2"
  }
 },
 "nbformat": 4,
 "nbformat_minor": 2
}
