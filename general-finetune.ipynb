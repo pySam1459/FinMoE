{
 "cells": [
  {
   "cell_type": "code",
   "execution_count": 1,
   "metadata": {},
   "outputs": [],
   "source": [
    "import torch\n",
    "import pandas as pd\n",
    "from functools import partial\n",
    "from pathlib import Path\n",
    "from datasets import Dataset, interleave_datasets\n",
    "from peft import get_peft_model, LoraConfig, TaskType, PeftModel\n",
    "from transformers import Trainer, TrainingArguments, AutoTokenizer, DataCollatorForLanguageModeling\n",
    "from transformers.models.llama.modeling_llama import LlamaForCausalLM\n",
    "\n",
    "from evals import DatasetArgs, evaluate, evaluate_FinMoE, load_eval_dataset\n",
    "from FinMoE import FinMoE, FinMoEConfig\n",
    "from utils import get_dataset_args\n",
    "\n",
    "assert torch.cuda.is_available(), \"CUDA not available\"\n",
    "device = torch.device(\"cuda\")\n",
    "\n",
    "seed = 42\n",
    "torch.manual_seed(seed)\n",
    "\n",
    "MAX_LENGTH = 512\n",
    "dataset_cache_path = Path(r\"D:/datasets/general-3-tasks\")\n",
    "\n",
    "model_id = \"meta-llama/Llama-3.2-1B\"\n",
    "tokenizer = AutoTokenizer.from_pretrained(model_id)\n",
    "if tokenizer.pad_token is None:\n",
    "    tokenizer.pad_token = tokenizer.eos_token"
   ]
  },
  {
   "cell_type": "markdown",
   "metadata": {},
   "source": [
    "## Dataset setup"
   ]
  },
  {
   "cell_type": "code",
   "execution_count": 2,
   "metadata": {},
   "outputs": [],
   "source": [
    "hub_basepath = Path(r\"C:\\Users\\samba\\.cache\\huggingface\\hub\")\n",
    "args = get_dataset_args(tokenizer, hub_basepath)"
   ]
  },
  {
   "cell_type": "markdown",
   "metadata": {},
   "source": [
    "## Load and Preprocess Dataset"
   ]
  },
  {
   "cell_type": "code",
   "execution_count": 3,
   "metadata": {},
   "outputs": [],
   "source": [
    "def train_preprocess_causal(args: DatasetArgs, dataset_id: str, example: dict):\n",
    "    # Create prompt and target text\n",
    "    prompt_args = [example[key] for key in args.prompt_args[dataset_id]]\n",
    "    prompt = args.prompt_templates[dataset_id].format(*prompt_args)\n",
    "\n",
    "    target = args.id2labels[dataset_id][example[\"label\"]]\n",
    "    full_text = prompt + target\n",
    "\n",
    "    # tokenize text\n",
    "    tokenized = tokenizer(full_text,\n",
    "                          truncation=True,\n",
    "                          padding=\"max_length\",\n",
    "                          max_length=MAX_LENGTH)\n",
    "    \n",
    "    # add padding tokens\n",
    "    prompt_tokenized = tokenizer(prompt,\n",
    "                              truncation=True,\n",
    "                              max_length=MAX_LENGTH)\n",
    "    prompt_length = len(prompt_tokenized[\"input_ids\"])\n",
    "\n",
    "    labels = tokenized[\"input_ids\"].copy()\n",
    "    labels[:prompt_length] = [-100] * prompt_length\n",
    "    tokenized[\"labels\"] = labels\n",
    "    return tokenized\n",
    "\n",
    "def train_preprocess_tokenclass(args: DatasetArgs, dataset_id: str, example: dict):\n",
    "    # Create prompt and target text\n",
    "    prompt_args = [example[key] for key in args.prompt_args[dataset_id]]\n",
    "    prompt = args.prompt_templates[dataset_id].format(*prompt_args)\n",
    "\n",
    "    # tokenize text\n",
    "    tokenized = tokenizer(prompt,\n",
    "                          truncation=True,\n",
    "                          padding=\"max_length\",\n",
    "                          max_length=MAX_LENGTH)\n",
    "\n",
    "    # tokenize and index label\n",
    "    target = args.id2labels[dataset_id][example[\"label\"]]\n",
    "    token_target = tokenizer.encode(target, add_special_tokens=False)[0]\n",
    "    label = args.token_list.index(token_target)\n",
    "    tokenized[\"labels\"] = label\n",
    "\n",
    "    return tokenized"
   ]
  },
  {
   "cell_type": "code",
   "execution_count": 4,
   "metadata": {},
   "outputs": [
    {
     "data": {
      "application/vnd.jupyter.widget-view+json": {
       "model_id": "0c07efd3825146398ff78e479ba7cb1c",
       "version_major": 2,
       "version_minor": 0
      },
      "text/plain": [
       "Map:   0%|          | 0/3876 [00:00<?, ? examples/s]"
      ]
     },
     "metadata": {},
     "output_type": "display_data"
    },
    {
     "data": {
      "application/vnd.jupyter.widget-view+json": {
       "model_id": "3d43e1ae8e654b918e06164f7003cf4d",
       "version_major": 2,
       "version_minor": 0
      },
      "text/plain": [
       "Map:   0%|          | 0/3876 [00:00<?, ? examples/s]"
      ]
     },
     "metadata": {},
     "output_type": "display_data"
    },
    {
     "data": {
      "application/vnd.jupyter.widget-view+json": {
       "model_id": "b5fb896aab574c089dcdf5e2e7c9fcec",
       "version_major": 2,
       "version_minor": 0
      },
      "text/plain": [
       "Map:   0%|          | 0/3876 [00:00<?, ? examples/s]"
      ]
     },
     "metadata": {},
     "output_type": "display_data"
    }
   ],
   "source": [
    "nrows_list = [3876, 3876, 3876]\n",
    "dataset_list = []\n",
    "for i, (dataset_id, dataset_path) in enumerate(args.paths.items()):\n",
    "    train_subset = pd.read_csv(dataset_path / \"train.csv\",\n",
    "                                delimiter=args.del_mapping[dataset_id],\n",
    "                                names=args.names_mapping[dataset_id],\n",
    "                                nrows=nrows_list[i])\n",
    "\n",
    "    preprocess_func = partial(train_preprocess_tokenclass, args, dataset_id)\n",
    "    dataset_list.append(Dataset\n",
    "                        .from_pandas(train_subset)\n",
    "                        .map(preprocess_func, batched=False)\n",
    "                        .remove_columns(args.columns[dataset_id]))\n",
    "\n",
    "n_datasets = len(dataset_list)\n",
    "train_dataset = interleave_datasets(dataset_list, \n",
    "                                    probabilities=[1/n_datasets]*n_datasets,\n",
    "                                    seed=seed)"
   ]
  },
  {
   "cell_type": "code",
   "execution_count": 5,
   "metadata": {},
   "outputs": [
    {
     "data": {
      "application/vnd.jupyter.widget-view+json": {
       "model_id": "94eaf57163a742f79fac373c3c8ec322",
       "version_major": 2,
       "version_minor": 0
      },
      "text/plain": [
       "Saving the dataset (0/1 shards):   0%|          | 0/11489 [00:00<?, ? examples/s]"
      ]
     },
     "metadata": {},
     "output_type": "display_data"
    }
   ],
   "source": [
    "save_path = dataset_cache_path.with_stem(\"finmoe-tokenclass_balanced-len512\")\n",
    "train_dataset.save_to_disk(save_path)"
   ]
  },
  {
   "cell_type": "code",
   "execution_count": 3,
   "metadata": {},
   "outputs": [],
   "source": [
    "load_path = dataset_cache_path.with_stem(\"finmoe-tokenclass_balanced-len512\")\n",
    "train_dataset = Dataset.load_from_disk(load_path)"
   ]
  },
  {
   "cell_type": "markdown",
   "metadata": {},
   "source": [
    "## Training"
   ]
  },
  {
   "cell_type": "markdown",
   "metadata": {},
   "source": [
    "### Peft Model trainer"
   ]
  },
  {
   "cell_type": "code",
   "execution_count": null,
   "metadata": {},
   "outputs": [],
   "source": [
    "peft_config = LoraConfig(\n",
    "    task_type=TaskType.CAUSAL_LM,\n",
    "    r=8,\n",
    "    lora_alpha=16,\n",
    "    lora_dropout=0.01,\n",
    "    target_modules=[\"q_proj\", \"v_proj\"]\n",
    ")\n",
    "\n",
    "model_id = \"meta-llama/Llama-3.2-1B\"\n",
    "base_model = LlamaForCausalLM.from_pretrained(model_id, torch_dtype=\"float16\")\n",
    "\n",
    "peft_model = get_peft_model(base_model, peft_config)\n",
    "peft_model.print_trainable_parameters()"
   ]
  },
  {
   "cell_type": "code",
   "execution_count": null,
   "metadata": {},
   "outputs": [],
   "source": [
    "data_collator = DataCollatorForLanguageModeling(\n",
    "    tokenizer=tokenizer, mlm=False\n",
    ")\n",
    "\n",
    "out_dir = Path(rf\"D:/models/general-Llama-3_2-1B\")\n",
    "training_args = TrainingArguments(\n",
    "    output_dir=str(out_dir),\n",
    "    num_train_epochs=6,\n",
    "    per_device_train_batch_size=2,\n",
    "    learning_rate=1e-3,\n",
    "    weight_decay=0.01,\n",
    "    warmup_steps=1000,\n",
    "    save_strategy=\"epoch\",\n",
    "    do_train=True,\n",
    ")\n",
    "\n",
    "trainer = Trainer(\n",
    "    model=peft_model,\n",
    "    args=training_args,\n",
    "    train_dataset=train_dataset,\n",
    "    data_collator=data_collator,\n",
    ")"
   ]
  },
  {
   "cell_type": "markdown",
   "metadata": {},
   "source": [
    "### FinMoE trainer"
   ]
  },
  {
   "cell_type": "code",
   "execution_count": 4,
   "metadata": {},
   "outputs": [
    {
     "name": "stdout",
     "output_type": "stream",
     "text": [
      "Memory allocated: 4953514496\n",
      "Trainable params:\n",
      "gate.w_gate.weight torch.Size([3, 2048])\n"
     ]
    }
   ],
   "source": [
    "ckpt_base = Path(r\"D:/models\")\n",
    "expert_order = [\"FPB\", \"Headline\", \"Topics\"]\n",
    "expert_ckpt_names = {\"FPB\": \"checkpoint-best\",\n",
    "                     \"Headline\": \"checkpoint-best\",\n",
    "                     \"Topics\": \"checkpoint-best\"}\n",
    "\n",
    "## note: str() wraps path as Path objects are not json serializable\n",
    "expert_ckpts = [str(ckpt_base / f\"expert-Llama-3_2-1B-{expert_name}\" / expert_ckpt_names[expert_name])\n",
    "                for expert_name in expert_order]\n",
    "\n",
    "finMoE_config = FinMoEConfig(\n",
    "    # loss_type=\"ForCausalLM\",\n",
    "    loss_type=\"ForTokenClassification\",\n",
    "    num_labels=len(args.token_list),\n",
    "\n",
    "    expert_ckpts=expert_ckpts,\n",
    "    gating_guassian=0.2,\n",
    "    token_list=args.token_list,\n",
    ")\n",
    "\n",
    "finMoE_model = FinMoE(finMoE_config).to(device)\n",
    "print(\"Memory allocated:\", torch.cuda.memory_allocated())\n",
    "print(\"Trainable params:\")\n",
    "for name, params in finMoE_model.named_parameters():\n",
    "    if params.requires_grad:\n",
    "        print(name, params.shape)\n",
    "\n",
    "\n",
    "## --- use data_collator when training with \"ForCausalLM\" loss\n",
    "# data_collator = DataCollatorForLanguageModeling(\n",
    "#     tokenizer=tokenizer, mlm=False\n",
    "# )\n",
    "\n",
    "out_dir = Path(rf\"D:/models/FinMoE-top3\")\n",
    "training_args = TrainingArguments(\n",
    "    output_dir=str(out_dir),\n",
    "    num_train_epochs=5,\n",
    "    per_device_train_batch_size=1,\n",
    "    gradient_accumulation_steps=16,\n",
    "    learning_rate=1e-3,\n",
    "    weight_decay=0.01,\n",
    "    warmup_steps=512,\n",
    "    logging_steps=32,\n",
    "    save_strategy=\"epoch\",\n",
    "    do_train=True,\n",
    ")\n",
    "\n",
    "trainer = Trainer(\n",
    "    model=finMoE_model,\n",
    "    args=training_args,\n",
    "    train_dataset=train_dataset,\n",
    "    # data_collator=data_collator,\n",
    ")"
   ]
  },
  {
   "cell_type": "markdown",
   "metadata": {},
   "source": [
    "### Train"
   ]
  },
  {
   "cell_type": "code",
   "execution_count": 5,
   "metadata": {},
   "outputs": [
    {
     "data": {
      "application/vnd.jupyter.widget-view+json": {
       "model_id": "5b9efa1f57664760b83cdb0544db08a7",
       "version_major": 2,
       "version_minor": 0
      },
      "text/plain": [
       "  0%|          | 0/3590 [00:00<?, ?it/s]"
      ]
     },
     "metadata": {},
     "output_type": "display_data"
    },
    {
     "name": "stdout",
     "output_type": "stream",
     "text": [
      "{'loss': 9.6858, 'grad_norm': 195.14013671875, 'learning_rate': 6.25e-05, 'epoch': 0.04}\n",
      "{'loss': 1.8656, 'grad_norm': 41.51145553588867, 'learning_rate': 0.000125, 'epoch': 0.09}\n",
      "{'loss': 1.3241, 'grad_norm': 3.312025547027588, 'learning_rate': 0.0001875, 'epoch': 0.13}\n",
      "{'loss': 1.4981, 'grad_norm': 4.386941432952881, 'learning_rate': 0.00025, 'epoch': 0.18}\n",
      "{'loss': 1.4151, 'grad_norm': 27.556354522705078, 'learning_rate': 0.0003125, 'epoch': 0.22}\n",
      "{'loss': 1.1529, 'grad_norm': 22.39943504333496, 'learning_rate': 0.000375, 'epoch': 0.27}\n",
      "{'loss': 1.6776, 'grad_norm': 0.8499090671539307, 'learning_rate': 0.0004375, 'epoch': 0.31}\n",
      "{'loss': 1.282, 'grad_norm': 19.473766326904297, 'learning_rate': 0.0005, 'epoch': 0.36}\n",
      "{'loss': 1.4018, 'grad_norm': 36.04220962524414, 'learning_rate': 0.0005625000000000001, 'epoch': 0.4}\n",
      "{'loss': 1.6611, 'grad_norm': 70.80497741699219, 'learning_rate': 0.000625, 'epoch': 0.45}\n",
      "{'loss': 1.4659, 'grad_norm': 21.681621551513672, 'learning_rate': 0.0006875, 'epoch': 0.49}\n",
      "{'loss': 2.1912, 'grad_norm': 15.527294158935547, 'learning_rate': 0.00075, 'epoch': 0.53}\n",
      "{'loss': 1.2451, 'grad_norm': 75.52608489990234, 'learning_rate': 0.0008125000000000001, 'epoch': 0.58}\n",
      "{'loss': 1.2842, 'grad_norm': 49.720890045166016, 'learning_rate': 0.000875, 'epoch': 0.62}\n",
      "{'loss': 2.4015, 'grad_norm': 18.85360336303711, 'learning_rate': 0.0009375, 'epoch': 0.67}\n",
      "{'loss': 1.3349, 'grad_norm': 41.26034927368164, 'learning_rate': 0.001, 'epoch': 0.71}\n",
      "{'loss': 1.8082, 'grad_norm': 108.93897247314453, 'learning_rate': 0.0009896036387264458, 'epoch': 0.76}\n",
      "{'loss': 1.2817, 'grad_norm': 6.796056747436523, 'learning_rate': 0.0009792072774528916, 'epoch': 0.8}\n",
      "{'loss': 1.2327, 'grad_norm': 21.220190048217773, 'learning_rate': 0.0009688109161793372, 'epoch': 0.85}\n",
      "{'loss': 1.959, 'grad_norm': 30.370250701904297, 'learning_rate': 0.000958414554905783, 'epoch': 0.89}\n",
      "{'loss': 1.2984, 'grad_norm': 42.16534423828125, 'learning_rate': 0.0009480181936322288, 'epoch': 0.94}\n",
      "{'loss': 1.4471, 'grad_norm': 18.667612075805664, 'learning_rate': 0.0009376218323586745, 'epoch': 0.98}\n",
      "{'loss': 1.4019, 'grad_norm': 8.91991901397705, 'learning_rate': 0.0009272254710851202, 'epoch': 1.02}\n",
      "{'loss': 1.1807, 'grad_norm': 22.2926025390625, 'learning_rate': 0.000916829109811566, 'epoch': 1.07}\n",
      "{'loss': 1.8122, 'grad_norm': 45.25075912475586, 'learning_rate': 0.0009064327485380117, 'epoch': 1.11}\n",
      "{'loss': 2.1497, 'grad_norm': 138.70135498046875, 'learning_rate': 0.0008960363872644575, 'epoch': 1.16}\n",
      "{'loss': 1.7178, 'grad_norm': 5.924774169921875, 'learning_rate': 0.0008856400259909033, 'epoch': 1.2}\n",
      "{'loss': 1.3446, 'grad_norm': 5.6041154861450195, 'learning_rate': 0.0008752436647173489, 'epoch': 1.25}\n",
      "{'loss': 1.4166, 'grad_norm': 135.95152282714844, 'learning_rate': 0.0008648473034437947, 'epoch': 1.29}\n",
      "{'loss': 1.6027, 'grad_norm': 14.55479907989502, 'learning_rate': 0.0008544509421702405, 'epoch': 1.34}\n",
      "{'loss': 1.5891, 'grad_norm': 51.7582893371582, 'learning_rate': 0.0008440545808966862, 'epoch': 1.38}\n",
      "{'loss': 1.6054, 'grad_norm': 26.645627975463867, 'learning_rate': 0.0008336582196231319, 'epoch': 1.43}\n",
      "{'loss': 1.8101, 'grad_norm': 97.13312530517578, 'learning_rate': 0.0008232618583495777, 'epoch': 1.47}\n",
      "{'loss': 1.6367, 'grad_norm': 4.450249671936035, 'learning_rate': 0.0008128654970760234, 'epoch': 1.52}\n",
      "{'loss': 1.5082, 'grad_norm': 13.951120376586914, 'learning_rate': 0.0008024691358024692, 'epoch': 1.56}\n",
      "{'loss': 1.3139, 'grad_norm': 0.7052806615829468, 'learning_rate': 0.0007920727745289149, 'epoch': 1.6}\n",
      "{'loss': 1.5403, 'grad_norm': 2.068575620651245, 'learning_rate': 0.0007816764132553606, 'epoch': 1.65}\n",
      "{'loss': 1.4762, 'grad_norm': 14.619535446166992, 'learning_rate': 0.0007712800519818064, 'epoch': 1.69}\n",
      "{'loss': 1.4269, 'grad_norm': 22.3619441986084, 'learning_rate': 0.0007608836907082522, 'epoch': 1.74}\n",
      "{'loss': 1.186, 'grad_norm': 13.838077545166016, 'learning_rate': 0.0007504873294346979, 'epoch': 1.78}\n",
      "{'loss': 1.3909, 'grad_norm': 204.4289093017578, 'learning_rate': 0.0007400909681611436, 'epoch': 1.83}\n",
      "{'loss': 1.8931, 'grad_norm': 48.63376235961914, 'learning_rate': 0.0007296946068875894, 'epoch': 1.87}\n",
      "{'loss': 1.0212, 'grad_norm': 61.903297424316406, 'learning_rate': 0.0007192982456140351, 'epoch': 1.92}\n",
      "{'loss': 1.8325, 'grad_norm': 77.2121810913086, 'learning_rate': 0.0007089018843404809, 'epoch': 1.96}\n",
      "{'loss': 1.4519, 'grad_norm': 24.676000595092773, 'learning_rate': 0.0006985055230669266, 'epoch': 2.01}\n",
      "{'loss': 1.0434, 'grad_norm': 33.97037887573242, 'learning_rate': 0.0006881091617933723, 'epoch': 2.05}\n",
      "{'loss': 1.3958, 'grad_norm': 1.44283926486969, 'learning_rate': 0.0006777128005198181, 'epoch': 2.09}\n",
      "{'loss': 1.0201, 'grad_norm': 17.820117950439453, 'learning_rate': 0.0006673164392462639, 'epoch': 2.14}\n",
      "{'loss': 1.2366, 'grad_norm': 2.9558660984039307, 'learning_rate': 0.0006569200779727096, 'epoch': 2.18}\n",
      "{'loss': 1.8632, 'grad_norm': 13.119372367858887, 'learning_rate': 0.0006465237166991553, 'epoch': 2.23}\n",
      "{'loss': 1.7109, 'grad_norm': 0.8011462688446045, 'learning_rate': 0.0006361273554256011, 'epoch': 2.27}\n",
      "{'loss': 1.1429, 'grad_norm': 24.057950973510742, 'learning_rate': 0.0006257309941520468, 'epoch': 2.32}\n",
      "{'loss': 1.4688, 'grad_norm': 28.02848243713379, 'learning_rate': 0.0006153346328784926, 'epoch': 2.36}\n",
      "{'loss': 1.4891, 'grad_norm': 5.989808559417725, 'learning_rate': 0.0006049382716049383, 'epoch': 2.41}\n",
      "{'loss': 1.4354, 'grad_norm': 105.2083740234375, 'learning_rate': 0.000594541910331384, 'epoch': 2.45}\n",
      "{'loss': 2.0325, 'grad_norm': 25.099916458129883, 'learning_rate': 0.0005841455490578298, 'epoch': 2.5}\n",
      "{'loss': 1.5787, 'grad_norm': 1.9977505207061768, 'learning_rate': 0.0005737491877842756, 'epoch': 2.54}\n",
      "{'loss': 1.3628, 'grad_norm': 46.83238983154297, 'learning_rate': 0.0005633528265107213, 'epoch': 2.58}\n",
      "{'loss': 1.764, 'grad_norm': 27.40201759338379, 'learning_rate': 0.000552956465237167, 'epoch': 2.63}\n",
      "{'loss': 1.3936, 'grad_norm': 43.62348556518555, 'learning_rate': 0.0005425601039636128, 'epoch': 2.67}\n",
      "{'loss': 1.9254, 'grad_norm': 25.045705795288086, 'learning_rate': 0.0005321637426900585, 'epoch': 2.72}\n",
      "{'loss': 1.5479, 'grad_norm': 5.54002571105957, 'learning_rate': 0.0005217673814165043, 'epoch': 2.76}\n",
      "{'loss': 1.4153, 'grad_norm': 0.4371050298213959, 'learning_rate': 0.00051137102014295, 'epoch': 2.81}\n",
      "{'loss': 1.2531, 'grad_norm': 17.669408798217773, 'learning_rate': 0.0005009746588693957, 'epoch': 2.85}\n",
      "{'loss': 2.0615, 'grad_norm': 17.827417373657227, 'learning_rate': 0.0004905782975958414, 'epoch': 2.9}\n",
      "{'loss': 1.478, 'grad_norm': 17.565330505371094, 'learning_rate': 0.00048018193632228716, 'epoch': 2.94}\n",
      "{'loss': 2.0747, 'grad_norm': 25.796504974365234, 'learning_rate': 0.00046978557504873293, 'epoch': 2.99}\n",
      "{'loss': 1.4431, 'grad_norm': 2.357872724533081, 'learning_rate': 0.00045938921377517865, 'epoch': 3.03}\n",
      "{'loss': 2.1081, 'grad_norm': 82.0064697265625, 'learning_rate': 0.0004489928525016244, 'epoch': 3.07}\n",
      "{'loss': 1.8986, 'grad_norm': 56.36044692993164, 'learning_rate': 0.0004385964912280702, 'epoch': 3.12}\n",
      "{'loss': 1.1898, 'grad_norm': 85.23867797851562, 'learning_rate': 0.0004282001299545159, 'epoch': 3.16}\n",
      "{'loss': 1.7439, 'grad_norm': 8.384016036987305, 'learning_rate': 0.00041780376868096167, 'epoch': 3.21}\n",
      "{'loss': 1.7622, 'grad_norm': 4.405788421630859, 'learning_rate': 0.0004074074074074074, 'epoch': 3.25}\n",
      "{'loss': 1.2384, 'grad_norm': 18.87470245361328, 'learning_rate': 0.00039701104613385315, 'epoch': 3.3}\n",
      "{'loss': 2.0741, 'grad_norm': 1.7902811765670776, 'learning_rate': 0.00038661468486029887, 'epoch': 3.34}\n",
      "{'loss': 1.6576, 'grad_norm': 1.3929520845413208, 'learning_rate': 0.00037621832358674463, 'epoch': 3.39}\n",
      "{'loss': 1.3473, 'grad_norm': 88.5704345703125, 'learning_rate': 0.00036582196231319035, 'epoch': 3.43}\n",
      "{'loss': 1.5049, 'grad_norm': 2.5520896911621094, 'learning_rate': 0.0003554256010396361, 'epoch': 3.48}\n",
      "{'loss': 1.568, 'grad_norm': 26.17753028869629, 'learning_rate': 0.0003450292397660819, 'epoch': 3.52}\n",
      "{'loss': 1.2166, 'grad_norm': 0.41869932413101196, 'learning_rate': 0.0003346328784925276, 'epoch': 3.57}\n",
      "{'loss': 1.1233, 'grad_norm': 0.5435310006141663, 'learning_rate': 0.00032423651721897337, 'epoch': 3.61}\n",
      "{'loss': 1.2096, 'grad_norm': 11.38460636138916, 'learning_rate': 0.0003138401559454191, 'epoch': 3.65}\n",
      "{'loss': 1.557, 'grad_norm': 73.79715728759766, 'learning_rate': 0.00030344379467186485, 'epoch': 3.7}\n",
      "{'loss': 1.6599, 'grad_norm': 57.00572204589844, 'learning_rate': 0.00029304743339831057, 'epoch': 3.74}\n",
      "{'loss': 1.8066, 'grad_norm': 7.168540000915527, 'learning_rate': 0.00028265107212475634, 'epoch': 3.79}\n",
      "{'loss': 2.035, 'grad_norm': 81.11170959472656, 'learning_rate': 0.00027225471085120205, 'epoch': 3.83}\n",
      "{'loss': 1.4311, 'grad_norm': 12.663679122924805, 'learning_rate': 0.0002618583495776478, 'epoch': 3.88}\n",
      "{'loss': 1.3818, 'grad_norm': 63.758056640625, 'learning_rate': 0.00025146198830409354, 'epoch': 3.92}\n",
      "{'loss': 1.2637, 'grad_norm': 6.348214626312256, 'learning_rate': 0.0002410656270305393, 'epoch': 3.97}\n",
      "{'loss': 1.2258, 'grad_norm': 10.585230827331543, 'learning_rate': 0.00023066926575698505, 'epoch': 4.01}\n",
      "{'loss': 1.5024, 'grad_norm': 78.76612854003906, 'learning_rate': 0.0002202729044834308, 'epoch': 4.06}\n",
      "{'loss': 1.3541, 'grad_norm': 2.127265691757202, 'learning_rate': 0.00020987654320987653, 'epoch': 4.1}\n",
      "{'loss': 1.7147, 'grad_norm': 24.98915672302246, 'learning_rate': 0.00019948018193632227, 'epoch': 4.14}\n",
      "{'loss': 2.3405, 'grad_norm': 17.049583435058594, 'learning_rate': 0.000189083820662768, 'epoch': 4.19}\n",
      "{'loss': 1.2317, 'grad_norm': 49.38787078857422, 'learning_rate': 0.00017868745938921378, 'epoch': 4.23}\n",
      "{'loss': 1.4917, 'grad_norm': 14.300975799560547, 'learning_rate': 0.00016829109811565952, 'epoch': 4.28}\n",
      "{'loss': 1.5716, 'grad_norm': 104.01262664794922, 'learning_rate': 0.00015789473684210527, 'epoch': 4.32}\n",
      "{'loss': 1.9538, 'grad_norm': 7.3547234535217285, 'learning_rate': 0.000147498375568551, 'epoch': 4.37}\n",
      "{'loss': 1.59, 'grad_norm': 3.580206871032715, 'learning_rate': 0.00013710201429499675, 'epoch': 4.41}\n",
      "{'loss': 1.6143, 'grad_norm': 19.243263244628906, 'learning_rate': 0.0001267056530214425, 'epoch': 4.46}\n",
      "{'loss': 1.0261, 'grad_norm': 8.249849319458008, 'learning_rate': 0.00011630929174788823, 'epoch': 4.5}\n",
      "{'loss': 1.6852, 'grad_norm': 26.49703598022461, 'learning_rate': 0.00010591293047433397, 'epoch': 4.55}\n",
      "{'loss': 1.6649, 'grad_norm': 152.5745086669922, 'learning_rate': 9.551656920077973e-05, 'epoch': 4.59}\n",
      "{'loss': 1.8108, 'grad_norm': 50.88194274902344, 'learning_rate': 8.512020792722547e-05, 'epoch': 4.63}\n",
      "{'loss': 1.0989, 'grad_norm': 22.033140182495117, 'learning_rate': 7.472384665367121e-05, 'epoch': 4.68}\n",
      "{'loss': 1.1797, 'grad_norm': 8.742655754089355, 'learning_rate': 6.432748538011695e-05, 'epoch': 4.72}\n",
      "{'loss': 1.872, 'grad_norm': 33.10936737060547, 'learning_rate': 5.39311241065627e-05, 'epoch': 4.77}\n",
      "{'loss': 1.3629, 'grad_norm': 14.338247299194336, 'learning_rate': 4.3534762833008445e-05, 'epoch': 4.81}\n",
      "{'loss': 1.1041, 'grad_norm': 12.381872177124023, 'learning_rate': 3.313840155945419e-05, 'epoch': 4.86}\n",
      "{'loss': 1.8882, 'grad_norm': 137.8970947265625, 'learning_rate': 2.2742040285899935e-05, 'epoch': 4.9}\n",
      "{'loss': 1.2609, 'grad_norm': 68.29463958740234, 'learning_rate': 1.2345679012345678e-05, 'epoch': 4.95}\n",
      "{'loss': 1.7758, 'grad_norm': 9.587332725524902, 'learning_rate': 1.949317738791423e-06, 'epoch': 4.99}\n",
      "{'train_runtime': 26347.1514, 'train_samples_per_second': 2.18, 'train_steps_per_second': 0.136, 'train_loss': 1.6109846061982815, 'epoch': 5.0}\n"
     ]
    },
    {
     "data": {
      "text/plain": [
       "TrainOutput(global_step=3590, training_loss=1.6109846061982815, metrics={'train_runtime': 26347.1514, 'train_samples_per_second': 2.18, 'train_steps_per_second': 0.136, 'total_flos': 1.721692468543488e+17, 'train_loss': 1.6109846061982815, 'epoch': 4.99956480111411})"
      ]
     },
     "execution_count": 5,
     "metadata": {},
     "output_type": "execute_result"
    }
   ],
   "source": [
    "trainer.train()"
   ]
  },
  {
   "cell_type": "markdown",
   "metadata": {},
   "source": [
    "# Eval"
   ]
  },
  {
   "cell_type": "code",
   "execution_count": 10,
   "metadata": {},
   "outputs": [
    {
     "name": "stdout",
     "output_type": "stream",
     "text": [
      "Loading Headline dataset from AdaptLLM/finance-tasks\n"
     ]
    }
   ],
   "source": [
    "dataset_id = \"Headline\"\n",
    "testset = load_eval_dataset(tokenizer, dataset_id, args)"
   ]
  },
  {
   "cell_type": "markdown",
   "metadata": {},
   "source": [
    "### Load an expert checkpoint"
   ]
  },
  {
   "cell_type": "code",
   "execution_count": 4,
   "metadata": {},
   "outputs": [],
   "source": [
    "ckpt_path = Path(r\"D:/models/general-Llama-3_2-1B\") / \"checkpoint-best\"\n",
    "\n",
    "model_id = \"meta-llama/Llama-3.2-1B\"\n",
    "base_model = LlamaForCausalLM.from_pretrained(model_id, torch_dtype=\"float16\") #.to(device)\n",
    "expert_model = PeftModel.from_pretrained(base_model, ckpt_path, torch_dtype=\"float16\").eval().to(device)"
   ]
  },
  {
   "cell_type": "code",
   "execution_count": null,
   "metadata": {},
   "outputs": [],
   "source": [
    "results = evaluate(expert_model, tokenizer,\n",
    "                   testset,\n",
    "                   guidance=True,\n",
    "                   token_opts=args.token_opts[dataset_id])\n",
    "print(results)"
   ]
  },
  {
   "cell_type": "markdown",
   "metadata": {},
   "source": [
    "### Load a FinMoE checkpoint"
   ]
  },
  {
   "cell_type": "code",
   "execution_count": 4,
   "metadata": {},
   "outputs": [],
   "source": [
    "ckpt_path = Path(r\"D:/models/FinMoE-top3\") / \"checkpoint-3590\"\n",
    "finMoE_model = FinMoE.load_pretrained(ckpt_path).to(device).eval()"
   ]
  },
  {
   "cell_type": "code",
   "execution_count": 11,
   "metadata": {},
   "outputs": [
    {
     "name": "stderr",
     "output_type": "stream",
     "text": [
      "Routing experts: 100%|██████████| 20547/20547 [16:39<00:00, 20.56it/s]\n",
      "Evaluating | 88.35: 100%|██████████| 20547/20547 [20:15<00:00, 16.91it/s]"
     ]
    },
    {
     "name": "stdout",
     "output_type": "stream",
     "text": [
      "{'accuracy': 0.8834866403854578, 'n_correct': 18153, 'n_total': 20547}\n"
     ]
    },
    {
     "name": "stderr",
     "output_type": "stream",
     "text": [
      "\n"
     ]
    }
   ],
   "source": [
    "results = evaluate_FinMoE(finMoE_model, tokenizer,\n",
    "                          testset,\n",
    "                          args.token_opts[dataset_id])\n",
    "print(results)"
   ]
  },
  {
   "cell_type": "code",
   "execution_count": null,
   "metadata": {},
   "outputs": [],
   "source": []
  }
 ],
 "metadata": {
  "kernelspec": {
   "display_name": "venv",
   "language": "python",
   "name": "python3"
  },
  "language_info": {
   "codemirror_mode": {
    "name": "ipython",
    "version": 3
   },
   "file_extension": ".py",
   "mimetype": "text/x-python",
   "name": "python",
   "nbconvert_exporter": "python",
   "pygments_lexer": "ipython3",
   "version": "3.12.2"
  }
 },
 "nbformat": 4,
 "nbformat_minor": 2
}
