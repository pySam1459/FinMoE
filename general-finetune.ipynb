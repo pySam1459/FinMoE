{
 "cells": [
  {
   "cell_type": "markdown",
   "metadata": {},
   "source": [
    "# General Fine-tuning Notebook\n",
    "This notebook contains the code used to fine-tune general models and FinMoE"
   ]
  },
  {
   "cell_type": "code",
   "execution_count": null,
   "metadata": {},
   "outputs": [],
   "source": [
    "import torch\n",
    "import pandas as pd\n",
    "from functools import partial\n",
    "from pathlib import Path\n",
    "from datasets import Dataset, interleave_datasets\n",
    "from huggingface_hub import constants as hub_c\n",
    "from peft import get_peft_model, LoraConfig, TaskType, PeftModel\n",
    "from transformers import Trainer, TrainingArguments, AutoTokenizer, DataCollatorForLanguageModeling\n",
    "from transformers.models.llama.modeling_llama import LlamaForCausalLM\n",
    "\n",
    "from FinMoE import FinMoE, FinMoEConfig\n",
    "from utils import DatasetArgs, get_dataset_args\n",
    "\n",
    "assert torch.cuda.is_available(), \"CUDA not available\"\n",
    "device = torch.device(\"cuda\")\n",
    "\n",
    "seed = 42\n",
    "torch.manual_seed(seed)\n",
    "\n",
    "MAX_LENGTH = 512\n",
    "dataset_cache_path = Path(r\"D:/datasets/general-3-tasks\")\n",
    "\n",
    "model_id = \"meta-llama/Llama-3.2-1B\"\n",
    "tokenizer = AutoTokenizer.from_pretrained(model_id)\n",
    "if tokenizer.pad_token is None:\n",
    "    tokenizer.pad_token = tokenizer.eos_token"
   ]
  },
  {
   "cell_type": "code",
   "execution_count": null,
   "metadata": {},
   "outputs": [],
   "source": [
    "args = get_dataset_args(tokenizer, Path(hub_c.HF_HUB_CACHE))"
   ]
  },
  {
   "cell_type": "markdown",
   "metadata": {},
   "source": [
    "## Load and Preprocess Dataset\n",
    "Two preprocessing functions are provided for the two loss functions supported: ForCausalLM, and ForTokenClassification"
   ]
  },
  {
   "cell_type": "code",
   "execution_count": null,
   "metadata": {},
   "outputs": [],
   "source": [
    "def train_preprocess_causal(args: DatasetArgs, dataset_id: str, example: dict):\n",
    "    # Create prompt and target text\n",
    "    prompt_args = [example[key] for key in args.prompt_args[dataset_id]]\n",
    "    prompt = args.prompt_templates[dataset_id].format(*prompt_args)\n",
    "\n",
    "    target = args.id2labels[dataset_id][example[\"label\"]]\n",
    "\n",
    "    return tokenizer(prompt + target, truncation=False)\n",
    "\n",
    "\n",
    "def train_preprocess_tokenclass(args: DatasetArgs, dataset_id: str, example: dict):\n",
    "    # Create prompt and target text\n",
    "    prompt_args = [example[key] for key in args.prompt_args[dataset_id]]\n",
    "    prompt = args.prompt_templates[dataset_id].format(*prompt_args)\n",
    "\n",
    "    # tokenize text\n",
    "    tokenized = tokenizer(prompt, truncation=False)\n",
    "\n",
    "    # tokenize and index label\n",
    "    target = args.id2labels[dataset_id][example[\"label\"]]\n",
    "    token_target = tokenizer.encode(target, add_special_tokens=False)[0]\n",
    "    label = args.token_list.index(token_target)\n",
    "    tokenized[\"labels\"] = label\n",
    "\n",
    "    return tokenized"
   ]
  },
  {
   "cell_type": "code",
   "execution_count": null,
   "metadata": {},
   "outputs": [],
   "source": [
    "nrows_list = [3876, 3876, 3876]\n",
    "dataset_list = []\n",
    "for i, (dataset_id, dataset_path) in enumerate(args.paths.items()):\n",
    "    train_subset = pd.read_csv(dataset_path / \"train.csv\",\n",
    "                                delimiter=args.del_mapping[dataset_id],\n",
    "                                names=args.names_mapping[dataset_id],\n",
    "                                nrows=nrows_list[i])\n",
    "\n",
    "    preprocess_func = partial(train_preprocess_tokenclass, args, dataset_id)\n",
    "    dataset_list.append(Dataset\n",
    "                        .from_pandas(train_subset)\n",
    "                        .map(preprocess_func,\n",
    "                             batched=False,\n",
    "                             remove_columns=args.columns[dataset_id])\n",
    "                        .filter(lambda sample: len(sample[\"input_ids\"]) <= args.max_length))\n",
    "\n",
    "n_datasets = len(dataset_list)\n",
    "train_dataset = interleave_datasets(dataset_list, \n",
    "                                    probabilities=[1/n_datasets]*n_datasets,\n",
    "                                    seed=seed)"
   ]
  },
  {
   "cell_type": "markdown",
   "metadata": {},
   "source": [
    "### Save Dataset"
   ]
  },
  {
   "cell_type": "code",
   "execution_count": null,
   "metadata": {},
   "outputs": [],
   "source": [
    "save_path = dataset_cache_path.with_stem(\"finmoe-tokenclass_balanced-len256\")\n",
    "train_dataset.save_to_disk(save_path)"
   ]
  },
  {
   "cell_type": "markdown",
   "metadata": {},
   "source": [
    "### Load Dataset"
   ]
  },
  {
   "cell_type": "code",
   "execution_count": null,
   "metadata": {},
   "outputs": [],
   "source": [
    "load_path = dataset_cache_path.with_stem(\"finmoe-tokenclass_balanced-len256\")\n",
    "train_dataset = Dataset.load_from_disk(load_path)"
   ]
  },
  {
   "cell_type": "markdown",
   "metadata": {},
   "source": [
    "# Training\n",
    "Run only the cells of the type of model you want to train: General model or FinMoE"
   ]
  },
  {
   "cell_type": "markdown",
   "metadata": {},
   "source": [
    "### General model trainer"
   ]
  },
  {
   "cell_type": "code",
   "execution_count": null,
   "metadata": {},
   "outputs": [],
   "source": [
    "peft_config = LoraConfig(\n",
    "    task_type=TaskType.CAUSAL_LM,\n",
    "    r=8,\n",
    "    lora_alpha=16,\n",
    "    lora_dropout=0.01,\n",
    "    target_modules=[\"q_proj\", \"v_proj\"]\n",
    ")\n",
    "\n",
    "model_id = \"meta-llama/Llama-3.2-1B\"\n",
    "base_model = LlamaForCausalLM.from_pretrained(model_id, torch_dtype=\"float16\")\n",
    "\n",
    "peft_model = get_peft_model(base_model, peft_config)\n",
    "peft_model.print_trainable_parameters()"
   ]
  },
  {
   "cell_type": "code",
   "execution_count": null,
   "metadata": {},
   "outputs": [],
   "source": [
    "data_collator = DataCollatorForLanguageModeling(\n",
    "    tokenizer=tokenizer, mlm=False\n",
    ")\n",
    "\n",
    "out_dir = Path(rf\"D:/models/general-Llama-3_2-1B\") ## OUTPUT DIRECTORY\n",
    "training_args = TrainingArguments(\n",
    "    output_dir=str(out_dir),\n",
    "    num_train_epochs=6,\n",
    "    per_device_train_batch_size=4,\n",
    "    gradient_accumulation_steps=8,\n",
    "    learning_rate=1e-3,\n",
    "    weight_decay=0.01,\n",
    "    warmup_steps=128,\n",
    "    logging_steps=32,\n",
    "    save_strategy=\"epoch\",\n",
    ")\n",
    "\n",
    "trainer = Trainer(\n",
    "    model=peft_model,\n",
    "    args=training_args,\n",
    "    train_dataset=train_dataset,\n",
    "    data_collator=data_collator,\n",
    ")"
   ]
  },
  {
   "cell_type": "markdown",
   "metadata": {},
   "source": [
    "### FinMoE trainer"
   ]
  },
  {
   "cell_type": "code",
   "execution_count": null,
   "metadata": {},
   "outputs": [
    {
     "name": "stdout",
     "output_type": "stream",
     "text": [
      "Memory allocated: 4953514496\n",
      "Trainable params:\n",
      "gate.w_gate.weight torch.Size([3, 2048])\n"
     ]
    }
   ],
   "source": [
    "ckpt_base = Path(r\"D:/models\")\n",
    "expert_ckpt_names = {\"FPB\": \"checkpoint-best\",\n",
    "                     \"Headline\": \"checkpoint-best\",\n",
    "                     \"Topics\": \"checkpoint-best\"}\n",
    "\n",
    "## note: str() wraps path as Path objects are not json serializable\n",
    "expert_ckpts = [str(ckpt_base / f\"expert-Llama-3_2-1B-{expert_name}\" / expert_ckpt_names[expert_name])\n",
    "                for expert_name in args.expert_order]\n",
    "\n",
    "finMoE_config = FinMoEConfig(\n",
    "    # loss_type=\"ForCausalLM\",\n",
    "    loss_type=\"ForTokenClassification\",\n",
    "    num_labels=len(args.token_list),\n",
    "\n",
    "    g_net_id=\"FastGating\",\n",
    "    expert_ckpts=expert_ckpts,\n",
    "    token_list=args.token_list,\n",
    ")\n",
    "\n",
    "finMoE_model = FinMoE(finMoE_config).to(device)\n",
    "print(\"Memory allocated:\", torch.cuda.memory_allocated())\n",
    "print(\"Trainable params:\")\n",
    "for name, params in finMoE_model.named_parameters():\n",
    "    if params.requires_grad:\n",
    "        print(name, params.shape)\n",
    "\n",
    "\n",
    "## --- use data_collator when training with \"ForCausalLM\" loss\n",
    "# data_collator = DataCollatorForLanguageModeling(\n",
    "#     tokenizer=tokenizer, mlm=False\n",
    "# )\n",
    "\n",
    "out_dir = Path(rf\"D:/models/FinMoE-fast-gating-v2\") ## OUTPUT DIRECTORY\n",
    "training_args = TrainingArguments(\n",
    "    output_dir=str(out_dir),\n",
    "    num_train_epochs=1,\n",
    "    per_device_train_batch_size=1,\n",
    "    gradient_accumulation_steps=16,\n",
    "    learning_rate=1e-3,\n",
    "    weight_decay=0.01,\n",
    "    warmup_steps=128,\n",
    "    logging_steps=32,\n",
    "    save_strategy=\"epoch\",\n",
    "    do_train=True,\n",
    ")\n",
    "\n",
    "trainer = Trainer(\n",
    "    model=finMoE_model,\n",
    "    args=training_args,\n",
    "    train_dataset=train_dataset,\n",
    "    # data_collator=data_collator,\n",
    ")"
   ]
  },
  {
   "cell_type": "markdown",
   "metadata": {},
   "source": [
    "### Train"
   ]
  },
  {
   "cell_type": "code",
   "execution_count": null,
   "metadata": {},
   "outputs": [],
   "source": [
    "trainer.train()"
   ]
  },
  {
   "cell_type": "markdown",
   "metadata": {},
   "source": [
    "# Eval"
   ]
  },
  {
   "cell_type": "code",
   "execution_count": 3,
   "metadata": {},
   "outputs": [],
   "source": [
    "from evals import evaluate, evaluate_FinMoE, evaluate_FinMoE_weighted, load_eval_dataset"
   ]
  },
  {
   "cell_type": "markdown",
   "metadata": {},
   "source": [
    "When evaluating a model on a task, modify the `dataset_id` variable with the dataset name you want to evaluate over"
   ]
  },
  {
   "cell_type": "code",
   "execution_count": 4,
   "metadata": {},
   "outputs": [
    {
     "name": "stdout",
     "output_type": "stream",
     "text": [
      "Loading Headline dataset from AdaptLLM/finance-tasks\n"
     ]
    }
   ],
   "source": [
    "dataset_id = \"Headline\"\n",
    "testset = load_eval_dataset(tokenizer, dataset_id, args)"
   ]
  },
  {
   "cell_type": "markdown",
   "metadata": {},
   "source": [
    "### Evaluate general checkpoint"
   ]
  },
  {
   "cell_type": "code",
   "execution_count": 5,
   "metadata": {},
   "outputs": [],
   "source": [
    "ckpt_path = Path(r\"D:/models/general-Llama-3_2-1B\") / \"checkpoint-best\"\n",
    "ckpt_path = Path(r\"D:/models/expert-Llama-3_2-1B-Headline\") / \"checkpoint-best\"\n",
    "\n",
    "model_id = \"meta-llama/Llama-3.2-1B\"\n",
    "base_model = LlamaForCausalLM.from_pretrained(model_id, torch_dtype=\"float16\") #.to(device)\n",
    "expert_model = PeftModel.from_pretrained(base_model, ckpt_path, torch_dtype=\"float16\").eval().to(device)"
   ]
  },
  {
   "cell_type": "code",
   "execution_count": null,
   "metadata": {},
   "outputs": [],
   "source": [
    "results = evaluate(expert_model, tokenizer,\n",
    "                   testset,\n",
    "                   guidance=True,\n",
    "                   token_opts=args.token_opts[dataset_id])\n",
    "print(results)"
   ]
  },
  {
   "cell_type": "markdown",
   "metadata": {},
   "source": [
    "### Evaluate FinMoE checkpoint"
   ]
  },
  {
   "cell_type": "code",
   "execution_count": null,
   "metadata": {},
   "outputs": [],
   "source": [
    "ckpt_path = Path(r\"D:/models/FinMoE-fast-gating\") / \"checkpoint-3590\"\n",
    "finMoE_model = FinMoE.load_pretrained(ckpt_path).to(device).eval()"
   ]
  },
  {
   "cell_type": "code",
   "execution_count": null,
   "metadata": {},
   "outputs": [],
   "source": [
    "results = evaluate_FinMoE(finMoE_model, tokenizer,\n",
    "                          testset,\n",
    "                          args.token_opts[dataset_id])\n",
    "print(results)"
   ]
  },
  {
   "cell_type": "code",
   "execution_count": null,
   "metadata": {},
   "outputs": [],
   "source": [
    "results = evaluate_FinMoE_weighted(finMoE_model,\n",
    "                                   testset,\n",
    "                                   dataset_id,\n",
    "                                   args)\n",
    "print(results)"
   ]
  },
  {
   "cell_type": "markdown",
   "metadata": {},
   "source": [
    "Parameter counts:\n",
    "- FinMoE = 1,238,376,448\n",
    "- 1 adapter = 851,968\n",
    "- llama  = 1,235,814,400\n",
    "- w_gate = 6,144\n",
    "- 1,235,814,400 + 851,968 * 3 + 6,144 == 1,238,376,448"
   ]
  },
  {
   "cell_type": "markdown",
   "metadata": {},
   "source": []
  }
 ],
 "metadata": {
  "kernelspec": {
   "display_name": "venv",
   "language": "python",
   "name": "python3"
  },
  "language_info": {
   "codemirror_mode": {
    "name": "ipython",
    "version": 3
   },
   "file_extension": ".py",
   "mimetype": "text/x-python",
   "name": "python",
   "nbconvert_exporter": "python",
   "pygments_lexer": "ipython3",
   "version": "3.12.2"
  }
 },
 "nbformat": 4,
 "nbformat_minor": 2
}
