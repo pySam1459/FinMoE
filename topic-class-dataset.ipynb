{
 "cells": [
  {
   "cell_type": "code",
   "execution_count": 31,
   "metadata": {},
   "outputs": [],
   "source": [
    "import torch\n",
    "import re\n",
    "from datasets import load_dataset\n",
    "from pathlib import Path\n",
    "\n",
    "assert torch.cuda.is_available(), \"CUDA not available\"\n",
    "device = torch.device(\"cuda\")\n",
    "seed = 42\n",
    "\n",
    "dataset_id = \"sujet-ai/Sujet-Finance-Instruct-177k\"\n",
    "\n",
    "topics = ['Analyst Update', 'Fed | Central Banks', 'Company | Product News', 'Treasuries | Corporate Debt', 'Dividend', 'Earnings', 'Energy | Oil', 'Financials', 'Currencies', 'General News | Opinion', 'Gold | Metals | Materials', 'IPO', 'Legal | Regulation', 'M&A | Investments', 'Macro', 'Markets', 'Politics', 'Personnel Change', 'Stock Commentary', 'Stock Movement']\n",
    "topics_label2id = {label: str(i) for i, label in enumerate(topics)}"
   ]
  },
  {
   "cell_type": "code",
   "execution_count": 32,
   "metadata": {},
   "outputs": [
    {
     "data": {
      "text/plain": [
       "DatasetDict({\n",
       "    train: Dataset({\n",
       "        features: ['label', 'text'],\n",
       "        num_rows: 16140\n",
       "    })\n",
       "    test: Dataset({\n",
       "        features: ['label', 'text'],\n",
       "        num_rows: 850\n",
       "    })\n",
       "})"
      ]
     },
     "execution_count": 32,
     "metadata": {},
     "output_type": "execute_result"
    }
   ],
   "source": [
    "def topic_class_filter(example):\n",
    "    return example[\"task_type\"] == \"topic_classification\"\n",
    "\n",
    "def topic_mapping(example):\n",
    "    example[\"answer\"] = topics_label2id[example[\"answer\"]]\n",
    "    return example\n",
    "\n",
    "def text_cleaning(example):\n",
    "    example[\"user_prompt\"] = re.sub(r\"https://t.co/.+\", \"\", example[\"user_prompt\"]).strip(\" \")\n",
    "    return example\n",
    "\n",
    "rmv_cols = [\"Unnamed: 0\", \"inputs\", \"system_prompt\", \"task_type\", \"dataset\", \"index_level\", \"conversation_id\"]\n",
    "rnm_cols = {\"answer\": \"label\", \"user_prompt\": \"text\"}\n",
    "\n",
    "dataset = (load_dataset(dataset_id, split=\"train\")\n",
    "            .filter(topic_class_filter)\n",
    "            .map(topic_mapping)\n",
    "            .map(text_cleaning)\n",
    "            .remove_columns(rmv_cols)\n",
    "            .rename_columns(rnm_cols))\n",
    "dataset = dataset.train_test_split(test_size=0.05, seed=seed)\n",
    "dataset"
   ]
  },
  {
   "cell_type": "code",
   "execution_count": 34,
   "metadata": {},
   "outputs": [
    {
     "data": {
      "application/vnd.jupyter.widget-view+json": {
       "model_id": "28c0ca0dcb674d938946bb23ffbceef2",
       "version_major": 2,
       "version_minor": 0
      },
      "text/plain": [
       "Creating CSV from Arrow format:   0%|          | 0/17 [00:00<?, ?ba/s]"
      ]
     },
     "metadata": {},
     "output_type": "display_data"
    },
    {
     "data": {
      "application/vnd.jupyter.widget-view+json": {
       "model_id": "c064f82404954afe83fc03b2c73760c4",
       "version_major": 2,
       "version_minor": 0
      },
      "text/plain": [
       "Creating CSV from Arrow format:   0%|          | 0/1 [00:00<?, ?ba/s]"
      ]
     },
     "metadata": {},
     "output_type": "display_data"
    },
    {
     "data": {
      "text/plain": [
       "88000"
      ]
     },
     "execution_count": 34,
     "metadata": {},
     "output_type": "execute_result"
    }
   ],
   "source": [
    "hub_basepath = Path(r\"C:\\Users\\samba\\.cache\\huggingface\\hub\")\n",
    "dataset[\"train\"].to_csv(hub_basepath / \"datasets--Sujet--TopicClassification\" / \"train.csv\")\n",
    "dataset[\"test\"].to_csv(hub_basepath / \"datasets--Sujet--TopicClassification\" / \"test.csv\")"
   ]
  }
 ],
 "metadata": {
  "kernelspec": {
   "display_name": "venv",
   "language": "python",
   "name": "python3"
  },
  "language_info": {
   "codemirror_mode": {
    "name": "ipython",
    "version": 3
   },
   "file_extension": ".py",
   "mimetype": "text/x-python",
   "name": "python",
   "nbconvert_exporter": "python",
   "pygments_lexer": "ipython3",
   "version": "3.12.2"
  }
 },
 "nbformat": 4,
 "nbformat_minor": 2
}
