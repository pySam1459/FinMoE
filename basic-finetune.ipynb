{
 "cells": [
  {
   "cell_type": "markdown",
   "metadata": {},
   "source": [
    "# Finetuning Llama-3.2-1B for finance tasks\n",
    "Basic deliverable finetuning script based on [ShawhinT finetuning example](https://github.com/ShawhinT/YouTube-Blog/tree/main/LLMs/fine-tuning)"
   ]
  },
  {
   "cell_type": "code",
   "execution_count": 1,
   "metadata": {},
   "outputs": [],
   "source": [
    "import torch\n",
    "import evaluate\n",
    "import numpy as np\n",
    "from peft import get_peft_model, LoraConfig\n",
    "from datasets import load_dataset\n",
    "from transformers import Trainer, TrainingArguments, AutoTokenizer, DataCollatorForLanguageModeling\n",
    "from transformers.models.llama.modeling_llama import LlamaForCausalLM\n",
    "from pathlib import Path\n",
    "\n",
    "\n",
    "model_id = \"meta-llama/Llama-3.2-1B\"\n",
    "tokenizer = AutoTokenizer.from_pretrained(model_id)\n",
    "if tokenizer.pad_token is None:\n",
    "    tokenizer.pad_token = tokenizer.eos_token\n",
    "\n",
    "base_model = LlamaForCausalLM.from_pretrained(model_id, torch_dtype=\"float16\")"
   ]
  },
  {
   "cell_type": "code",
   "execution_count": 2,
   "metadata": {},
   "outputs": [
    {
     "data": {
      "text/plain": [
       "Dataset({\n",
       "    features: ['title', 'description'],\n",
       "    num_rows: 5062\n",
       "})"
      ]
     },
     "execution_count": 2,
     "metadata": {},
     "output_type": "execute_result"
    }
   ],
   "source": [
    "dataset = load_dataset(\"PaulAdversarial/all_news_finance_sm_1h2023\", split=\"train\")\n",
    "dataset = dataset.remove_columns([\"_id\", \"main_domain\", \"created_at\"])\n",
    "dataset"
   ]
  },
  {
   "cell_type": "code",
   "execution_count": 3,
   "metadata": {},
   "outputs": [],
   "source": [
    "def tokenize_function(examples):\n",
    "    return tokenizer(\n",
    "        examples[\"title\"],\n",
    "        examples[\"description\"],\n",
    "        truncation=True,\n",
    "        max_length=512,  ## majority of dataset is less than 512 tokens\n",
    "    )"
   ]
  },
  {
   "cell_type": "code",
   "execution_count": 4,
   "metadata": {},
   "outputs": [],
   "source": [
    "peft_config = LoraConfig(task_type=\"CAUSAL_LM\",\n",
    "                         r=4,\n",
    "                         lora_alpha=32,\n",
    "                         lora_dropout=0.01,\n",
    "                         target_modules = [\"q_proj\", \"v_proj\"])"
   ]
  },
  {
   "cell_type": "code",
   "execution_count": 5,
   "metadata": {},
   "outputs": [
    {
     "name": "stdout",
     "output_type": "stream",
     "text": [
      "trainable params: 425,984 || all params: 1,236,240,384 || trainable%: 0.0345\n"
     ]
    }
   ],
   "source": [
    "peft_model = get_peft_model(base_model, peft_config)\n",
    "peft_model.print_trainable_parameters()"
   ]
  },
  {
   "cell_type": "code",
   "execution_count": 6,
   "metadata": {},
   "outputs": [],
   "source": [
    "# hyperparameters\n",
    "lr = 1e-3\n",
    "batch_size = 4\n",
    "num_epochs = 10"
   ]
  },
  {
   "cell_type": "code",
   "execution_count": 7,
   "metadata": {},
   "outputs": [],
   "source": [
    "accuracy_metric = evaluate.load(\"accuracy\")\n",
    "f1_metric = evaluate.load(\"f1\")\n",
    "\n",
    "def compute_metrics(eval_pred: np.ndarray) -> dict[str, float]:\n",
    "    logits, labels = eval_pred\n",
    "    predictions = np.argmax(logits, axis=1)\n",
    "    \n",
    "    accuracy_val = accuracy_metric.compute(predictions=predictions, references=labels)['accuracy']\n",
    "    f1_val = f1_metric.compute(predictions=predictions, references=labels, average=\"weighted\")['f1']\n",
    "\n",
    "    return {\n",
    "        \"accuracy\": accuracy_val,\n",
    "        \"f1\": f1_val,\n",
    "    }"
   ]
  },
  {
   "cell_type": "code",
   "execution_count": 8,
   "metadata": {},
   "outputs": [],
   "source": [
    "# define training arguments\n",
    "out_dir = Path(r\"D:\\models\\basic-Llama-3_2-LoRA\")\n",
    "training_args = TrainingArguments(\n",
    "    output_dir=str(out_dir),\n",
    "    num_train_epochs=num_epochs,\n",
    "    per_device_train_batch_size=batch_size,\n",
    "    learning_rate=lr,\n",
    "    weight_decay=0.01,\n",
    "    warmup_steps=500,\n",
    "    eval_strategy=\"no\",\n",
    "    save_strategy=\"epoch\",\n",
    "    do_train=True,\n",
    ")"
   ]
  },
  {
   "cell_type": "code",
   "execution_count": null,
   "metadata": {},
   "outputs": [
    {
     "data": {
      "application/vnd.jupyter.widget-view+json": {
       "model_id": "53eb07d122a24d08adea905abae2cf10",
       "version_major": 2,
       "version_minor": 0
      },
      "text/plain": [
       "Map:   0%|          | 0/5062 [00:00<?, ? examples/s]"
      ]
     },
     "metadata": {},
     "output_type": "display_data"
    }
   ],
   "source": [
    "tok_train_dataset = (dataset\n",
    "                     .map(tokenize_function))"
   ]
  },
  {
   "cell_type": "code",
   "execution_count": 18,
   "metadata": {},
   "outputs": [
    {
     "name": "stderr",
     "output_type": "stream",
     "text": [
      "C:\\Users\\samba\\AppData\\Local\\Temp\\ipykernel_21948\\3710623873.py:7: FutureWarning: `tokenizer` is deprecated and will be removed in version 5.0.0 for `Trainer.__init__`. Use `processing_class` instead.\n",
      "  trainer = Trainer(\n"
     ]
    },
    {
     "data": {
      "application/vnd.jupyter.widget-view+json": {
       "model_id": "8916391e18ec40c3aad78346d93e38e6",
       "version_major": 2,
       "version_minor": 0
      },
      "text/plain": [
       "  0%|          | 0/12660 [00:00<?, ?it/s]"
      ]
     },
     "metadata": {},
     "output_type": "display_data"
    },
    {
     "name": "stdout",
     "output_type": "stream",
     "text": [
      "{'loss': 3.0204, 'grad_norm': 4.897493839263916, 'learning_rate': 0.001, 'epoch': 0.39}\n",
      "{'loss': 3.051, 'grad_norm': 6.844336986541748, 'learning_rate': 0.0009588815789473685, 'epoch': 0.79}\n",
      "{'loss': 2.997, 'grad_norm': 4.985720157623291, 'learning_rate': 0.0009177631578947368, 'epoch': 1.18}\n",
      "{'loss': 2.9422, 'grad_norm': 5.779033184051514, 'learning_rate': 0.0008766447368421053, 'epoch': 1.58}\n",
      "{'loss': 2.9269, 'grad_norm': 5.083930015563965, 'learning_rate': 0.0008355263157894737, 'epoch': 1.97}\n",
      "{'loss': 2.8285, 'grad_norm': 4.1062774658203125, 'learning_rate': 0.0007944078947368421, 'epoch': 2.37}\n",
      "{'loss': 2.8523, 'grad_norm': 5.630640029907227, 'learning_rate': 0.0007532894736842105, 'epoch': 2.76}\n",
      "{'loss': 2.7999, 'grad_norm': 5.521939277648926, 'learning_rate': 0.000712171052631579, 'epoch': 3.16}\n",
      "{'loss': 2.7677, 'grad_norm': 5.261638164520264, 'learning_rate': 0.0006710526315789473, 'epoch': 3.55}\n",
      "{'loss': 2.7697, 'grad_norm': 4.421476364135742, 'learning_rate': 0.0006299342105263159, 'epoch': 3.95}\n",
      "{'loss': 2.6436, 'grad_norm': 5.545839309692383, 'learning_rate': 0.0005888157894736841, 'epoch': 4.34}\n",
      "{'loss': 2.6922, 'grad_norm': 4.146660327911377, 'learning_rate': 0.0005476973684210527, 'epoch': 4.74}\n",
      "{'loss': 2.6446, 'grad_norm': 4.360377788543701, 'learning_rate': 0.0005065789473684211, 'epoch': 5.13}\n",
      "{'loss': 2.5925, 'grad_norm': 3.9588699340820312, 'learning_rate': 0.0004654605263157895, 'epoch': 5.53}\n",
      "{'loss': 2.5794, 'grad_norm': 4.3220319747924805, 'learning_rate': 0.0004243421052631579, 'epoch': 5.92}\n",
      "{'loss': 2.4933, 'grad_norm': 4.099871635437012, 'learning_rate': 0.0003832236842105263, 'epoch': 6.32}\n",
      "{'loss': 2.4929, 'grad_norm': 3.4290761947631836, 'learning_rate': 0.00034210526315789477, 'epoch': 6.71}\n",
      "{'loss': 2.4673, 'grad_norm': 4.564505100250244, 'learning_rate': 0.0003009868421052632, 'epoch': 7.11}\n",
      "{'loss': 2.3715, 'grad_norm': 5.525955677032471, 'learning_rate': 0.0002598684210526316, 'epoch': 7.5}\n",
      "{'loss': 2.3982, 'grad_norm': 6.382517337799072, 'learning_rate': 0.00021875, 'epoch': 7.9}\n",
      "{'loss': 2.2905, 'grad_norm': 4.96140718460083, 'learning_rate': 0.00017763157894736843, 'epoch': 8.29}\n",
      "{'loss': 2.2761, 'grad_norm': 5.397637844085693, 'learning_rate': 0.00013651315789473683, 'epoch': 8.69}\n",
      "{'loss': 2.2591, 'grad_norm': 4.897074222564697, 'learning_rate': 9.539473684210526e-05, 'epoch': 9.08}\n",
      "{'loss': 2.1783, 'grad_norm': 4.906138896942139, 'learning_rate': 5.4276315789473686e-05, 'epoch': 9.48}\n",
      "{'loss': 2.1548, 'grad_norm': 6.713773250579834, 'learning_rate': 1.3157894736842104e-05, 'epoch': 9.87}\n",
      "{'train_runtime': 2543.9201, 'train_samples_per_second': 19.898, 'train_steps_per_second': 4.977, 'train_loss': 2.6143193731564103, 'epoch': 10.0}\n"
     ]
    },
    {
     "data": {
      "text/plain": [
       "TrainOutput(global_step=12660, training_loss=2.6143193731564103, metrics={'train_runtime': 2543.9201, 'train_samples_per_second': 19.898, 'train_steps_per_second': 4.977, 'total_flos': 2.62356261285888e+16, 'train_loss': 2.6143193731564103, 'epoch': 10.0})"
      ]
     },
     "execution_count": 18,
     "metadata": {},
     "output_type": "execute_result"
    }
   ],
   "source": [
    "data_collator = DataCollatorForLanguageModeling(\n",
    "    tokenizer=tokenizer,\n",
    "    mlm=False  # For causal language modeling\n",
    ")\n",
    "\n",
    "# creater trainer object\n",
    "trainer = Trainer(\n",
    "    model=peft_model,\n",
    "    args=training_args,\n",
    "    train_dataset=tok_train_dataset,\n",
    "    tokenizer=tokenizer,\n",
    "    data_collator=data_collator,\n",
    "    compute_metrics=compute_metrics,\n",
    ")\n",
    "\n",
    "# train model\n",
    "trainer.train()"
   ]
  },
  {
   "cell_type": "code",
   "execution_count": null,
   "metadata": {},
   "outputs": [],
   "source": []
  }
 ],
 "metadata": {
  "kernelspec": {
   "display_name": "venv",
   "language": "python",
   "name": "python3"
  },
  "language_info": {
   "codemirror_mode": {
    "name": "ipython",
    "version": 3
   },
   "file_extension": ".py",
   "mimetype": "text/x-python",
   "name": "python",
   "nbconvert_exporter": "python",
   "pygments_lexer": "ipython3",
   "version": "3.12.2"
  }
 },
 "nbformat": 4,
 "nbformat_minor": 2
}
