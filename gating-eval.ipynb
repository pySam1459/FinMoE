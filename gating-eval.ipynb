{
 "cells": [
  {
   "cell_type": "markdown",
   "id": "970b71a8",
   "metadata": {},
   "source": [
    "# Gating Evaluation\n",
    "This notebook evaluates the accuracy of the gating network used by FinMoE"
   ]
  },
  {
   "cell_type": "code",
   "execution_count": null,
   "id": "394d8d31",
   "metadata": {},
   "outputs": [],
   "source": [
    "import torch\n",
    "from pathlib import Path\n",
    "from huggingface_hub import constants as hub_c\n",
    "from transformers import AutoTokenizer\n",
    "from tqdm import tqdm\n",
    "\n",
    "from evals import load_eval_dataset\n",
    "from FinMoE import FinMoE\n",
    "from utils import get_dataset_args\n",
    "\n",
    "assert torch.cuda.is_available(), \"CUDA not installed\"\n",
    "device = torch.device(\"cuda\")\n",
    "\n",
    "seed = 42\n",
    "torch.manual_seed(seed)\n",
    "\n",
    "model_id = \"meta-llama/Llama-3.2-1B\"\n",
    "tokenizer = AutoTokenizer.from_pretrained(model_id)\n",
    "if tokenizer.pad_token is None:\n",
    "    tokenizer.pad_token = tokenizer.eos_token\n",
    "\n",
    "args = get_dataset_args(tokenizer, Path(hub_c.HF_HUB_CACHE))"
   ]
  },
  {
   "cell_type": "code",
   "execution_count": 2,
   "id": "b78a90ec",
   "metadata": {},
   "outputs": [],
   "source": [
    "ckpt_path = Path(rf\"D:/models/FinMoE-fast-gating\") / \"checkpoint-3590\"\n",
    "finMoE_model = FinMoE.load_pretrained(ckpt_path).to(device).eval()"
   ]
  },
  {
   "cell_type": "code",
   "execution_count": null,
   "id": "8959772a",
   "metadata": {},
   "outputs": [],
   "source": [
    "dataset_ids = [\"FPB\", \"Headline\", \"Topics\"]\n",
    "\n",
    "for expert_idx, dataset_id in enumerate(dataset_ids):\n",
    "    testset = load_eval_dataset(tokenizer, dataset_id, args)\n",
    "\n",
    "    correct = 0\n",
    "    total = 0\n",
    "    progbar = tqdm(testset)\n",
    "    for example in progbar:\n",
    "        input_ids = torch.tensor(example[\"input_ids\"]).to(device)\n",
    "        attn_mask = torch.tensor(example[\"attention_mask\"]).to(device)\n",
    "        gate_scores = finMoE_model.gate.forward(input_ids, attn_mask)\n",
    "\n",
    "        correct += (torch.argmax(gate_scores, dim=-1) == expert_idx).sum()\n",
    "        total += gate_scores.size(0)\n",
    "        progbar.set_description(f\"{correct/total*100:.2f}\")\n",
    "    \n",
    "    print(f\"Gate Accuracy for expert {expert_idx} {dataset_id}: {correct / total * 100:.2f}\")"
   ]
  }
 ],
 "metadata": {
  "kernelspec": {
   "display_name": "venv",
   "language": "python",
   "name": "python3"
  },
  "language_info": {
   "codemirror_mode": {
    "name": "ipython",
    "version": 3
   },
   "file_extension": ".py",
   "mimetype": "text/x-python",
   "name": "python",
   "nbconvert_exporter": "python",
   "pygments_lexer": "ipython3",
   "version": "3.12.2"
  }
 },
 "nbformat": 4,
 "nbformat_minor": 5
}
