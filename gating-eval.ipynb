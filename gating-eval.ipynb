{
 "cells": [
  {
   "cell_type": "markdown",
   "id": "970b71a8",
   "metadata": {},
   "source": [
    "# Gating Evaluation\n",
    "This notebook evaluates the accuracy of the gating network used by FinMoE"
   ]
  },
  {
   "cell_type": "code",
   "execution_count": 1,
   "id": "394d8d31",
   "metadata": {},
   "outputs": [],
   "source": [
    "import torch\n",
    "from pathlib import Path\n",
    "from transformers import AutoTokenizer\n",
    "from tqdm import tqdm\n",
    "\n",
    "from evals import load_eval_dataset\n",
    "from FinMoE import FinMoE\n",
    "from utils import get_dataset_args\n",
    "\n",
    "assert torch.cuda.is_available(), \"CUDA not installed\"\n",
    "device = torch.device(\"cuda\")\n",
    "\n",
    "seed = 42\n",
    "torch.manual_seed(seed)\n",
    "\n",
    "MAX_LENGTH = 512\n",
    "\n",
    "model_id = \"meta-llama/Llama-3.2-1B\"\n",
    "tokenizer = AutoTokenizer.from_pretrained(model_id)\n",
    "if tokenizer.pad_token is None:\n",
    "    tokenizer.pad_token = tokenizer.eos_token\n",
    "\n",
    "hub_basepath = Path(r\"C:\\Users\\samba\\.cache\\huggingface\\hub\")\n",
    "args = get_dataset_args(tokenizer, hub_basepath)"
   ]
  },
  {
   "cell_type": "code",
   "execution_count": 3,
   "id": "b78a90ec",
   "metadata": {},
   "outputs": [],
   "source": [
    "ckpt_path = Path(rf\"D:/models/FinMoE-v2\") / \"checkpoint-14360\"\n",
    "finMoE_model = FinMoE.load_pretrained(ckpt_path).to(device).eval()"
   ]
  },
  {
   "cell_type": "code",
   "execution_count": null,
   "id": "8959772a",
   "metadata": {},
   "outputs": [
    {
     "name": "stdout",
     "output_type": "stream",
     "text": [
      "Loading Topics from path C:\\Users\\samba\\.cache\\huggingface\\hub\\datasets--Sujet--TopicClassification\n"
     ]
    },
    {
     "data": {
      "application/vnd.jupyter.widget-view+json": {
       "model_id": "62da617660884df4ba7c4a98f31a3975",
       "version_major": 2,
       "version_minor": 0
      },
      "text/plain": [
       "Map:   0%|          | 0/850 [00:00<?, ? examples/s]"
      ]
     },
     "metadata": {},
     "output_type": "display_data"
    },
    {
     "data": {
      "application/vnd.jupyter.widget-view+json": {
       "model_id": "f7bcc0812eff46668d69cb31ff54a600",
       "version_major": 2,
       "version_minor": 0
      },
      "text/plain": [
       "Map:   0%|          | 0/850 [00:00<?, ? examples/s]"
      ]
     },
     "metadata": {},
     "output_type": "display_data"
    },
    {
     "name": "stderr",
     "output_type": "stream",
     "text": [
      "0.00: 100%|██████████| 850/850 [00:45<00:00, 18.70it/s]"
     ]
    },
    {
     "name": "stdout",
     "output_type": "stream",
     "text": [
      "Gate Accuracy for expert 2 Topics: 0.00\n"
     ]
    },
    {
     "name": "stderr",
     "output_type": "stream",
     "text": [
      "\n"
     ]
    }
   ],
   "source": [
    "dataset_ids = [\"FPB\", \"Headline\", \"Topics\"]\n",
    "\n",
    "for expert_idx, dataset_id in enumerate(dataset_ids):\n",
    "    testset = load_eval_dataset(tokenizer, dataset_id, args)\n",
    "\n",
    "    correct = 0\n",
    "    total = 0\n",
    "    progbar = tqdm(testset)\n",
    "    for example in progbar:\n",
    "        input_ids = torch.tensor(example[\"input_ids\"]).to(device)\n",
    "        attn_mask = torch.tensor(example[\"attention_mask\"]).to(device)\n",
    "        gate_scores, top1_indices = finMoE_model.gate.forward(input_ids, attn_mask)\n",
    "\n",
    "        correct += (torch.argmax(gate_scores, dim=-1) == expert_idx).sum()\n",
    "        total += gate_scores.size(0)\n",
    "        progbar.set_description(f\"{correct/total*100:.2f}\")\n",
    "    \n",
    "    print(f\"Gate Accuracy for expert {expert_idx} {dataset_id}: {correct / total * 100:.2f}\")"
   ]
  },
  {
   "cell_type": "markdown",
   "id": "62f7884e",
   "metadata": {},
   "source": [
    "### Gating network weights"
   ]
  },
  {
   "cell_type": "code",
   "execution_count": 9,
   "id": "c44469ac",
   "metadata": {},
   "outputs": [
    {
     "data": {
      "text/plain": [
       "tensor([ 0.7107, -0.9033,  0.2338], device='cuda:0', grad_fn=<SumBackward1>)"
      ]
     },
     "execution_count": 9,
     "metadata": {},
     "output_type": "execute_result"
    }
   ],
   "source": [
    "finMoE_model.gate.w_gate.weight.sum(dim=1)"
   ]
  },
  {
   "cell_type": "code",
   "execution_count": 8,
   "id": "248d2b94",
   "metadata": {},
   "outputs": [
    {
     "data": {
      "text/plain": [
       "Parameter containing:\n",
       "tensor([-0.0235,  0.0092, -0.0074], device='cuda:0', requires_grad=True)"
      ]
     },
     "execution_count": 8,
     "metadata": {},
     "output_type": "execute_result"
    }
   ],
   "source": [
    "finMoE_model.gate.w_gate.bias"
   ]
  }
 ],
 "metadata": {
  "kernelspec": {
   "display_name": "venv",
   "language": "python",
   "name": "python3"
  },
  "language_info": {
   "codemirror_mode": {
    "name": "ipython",
    "version": 3
   },
   "file_extension": ".py",
   "mimetype": "text/x-python",
   "name": "python",
   "nbconvert_exporter": "python",
   "pygments_lexer": "ipython3",
   "version": "3.12.2"
  }
 },
 "nbformat": 4,
 "nbformat_minor": 5
}
