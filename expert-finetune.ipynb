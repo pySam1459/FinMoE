{
 "cells": [
  {
   "cell_type": "code",
   "execution_count": 1,
   "metadata": {},
   "outputs": [],
   "source": [
    "import torch\n",
    "import evaluate\n",
    "import pandas as pd\n",
    "import numpy as np\n",
    "from peft import get_peft_model, LoraConfig, TaskType, PeftModel\n",
    "from datasets import Dataset, load_dataset\n",
    "from transformers import Trainer, TrainingArguments, AutoTokenizer, DataCollatorForLanguageModeling, PreTrainedModel\n",
    "from transformers.models.llama.modeling_llama import LlamaForCausalLM\n",
    "from pathlib import Path\n",
    "from tqdm import tqdm\n",
    "from typing import Optional\n",
    "\n",
    "assert torch.cuda.is_available(), \"CUDA not available\"\n",
    "device = torch.device(\"cuda\")\n",
    "\n",
    "model_id = \"meta-llama/Llama-3.2-1B\"\n",
    "tokenizer = AutoTokenizer.from_pretrained(model_id)\n",
    "if tokenizer.pad_token is None:\n",
    "    tokenizer.pad_token = tokenizer.eos_token\n",
    "\n",
    "base_model = LlamaForCausalLM.from_pretrained(model_id, torch_dtype=\"float16\")\n",
    "\n",
    "accuracy_metric = evaluate.load(\"accuracy\")\n",
    "f1_metric = evaluate.load(\"f1\")\n",
    "\n",
    "dataset_id = \"Topics\""
   ]
  },
  {
   "cell_type": "markdown",
   "metadata": {},
   "source": [
    "## Dataset setup"
   ]
  },
  {
   "cell_type": "code",
   "execution_count": 2,
   "metadata": {},
   "outputs": [],
   "source": [
    "## load_dataset causes an error, load directly from cached snapshot files\n",
    "hub_basepath = Path(r\"C:\\Users\\samba\\.cache\\huggingface\\hub\")\n",
    "\n",
    "paths = {\n",
    "    \"FPB\": hub_basepath / r\"datasets--AdaptLLM--FPB\\snapshots\\7f203bd82f0b2b01ce391b9451c642dd732cf381\",\n",
    "    \"Headline\": hub_basepath / r\"datasets--AdaptLLM--Headline\\snapshots\\68cf1056f3ed51d39b945d004259473759555559\",\n",
    "    \"Topics\": hub_basepath / r\"datasets--Sujet--TopicClassification\"\n",
    "}"
   ]
  },
  {
   "cell_type": "code",
   "execution_count": 3,
   "metadata": {},
   "outputs": [],
   "source": [
    "names_mapping = {\n",
    "    \"FPB\": [\"text\", \"label\"],\n",
    "    \"Headline\": [\"idx\", \"text\", \"question\", \"label\", \"subidx\"],\n",
    "    \"Topics\": [\"label\", \"text\"]\n",
    "}\n",
    "\n",
    "del_mapping = {\n",
    "    \"FPB\": \"\\t\",\n",
    "    \"Headline\": \"\\t\",\n",
    "    \"Topics\": None\n",
    "}\n",
    "\n",
    "dataset_path = paths[dataset_id]\n",
    "train_dataset = pd.read_csv(dataset_path / \"train.csv\",\n",
    "                            delimiter=del_mapping[dataset_id],\n",
    "                            names=names_mapping[dataset_id])\n",
    "test_dataset  = pd.read_csv(dataset_path / \"test.csv\",\n",
    "                            delimiter=del_mapping[dataset_id],\n",
    "                            names=names_mapping[dataset_id])"
   ]
  },
  {
   "cell_type": "code",
   "execution_count": null,
   "metadata": {},
   "outputs": [],
   "source": [
    "dataset_cols = {\n",
    "    \"FPB\": [\"text\"],\n",
    "    \"Headline\": [\"text\", \"question\"],\n",
    "    \"Topics\": [\"text\"],\n",
    "}\n",
    "\n",
    "topics = ['Analyst Update', 'Fed | Central Banks', 'Company | Product News', 'Treasuries | Corporate Debt', 'Dividend', 'Earnings', 'Energy | Oil', 'Financials', 'Currencies', 'General News | Opinion', 'Gold | Metals | Materials', 'IPO', 'Legal | Regulation', 'M&A | Investments', 'Macro', 'Markets', 'Politics', 'Personnel Change', 'Stock Commentary', 'Stock Movement']\n",
    "topic_options = \"\\n\".join([f\"{i} - {t}\" for i, t in enumerate(topics)])\n",
    "prompt_templates = {\n",
    "    \"FPB\": \"{0}\\nQuestion: what is the sentiment?\\nOptions:\\n- Positive\\n- Negative\\n- Neutral\",\n",
    "    \"Headline\": \"Headline: \\\"{0}\\\" Now answer this question: {1}\",\n",
    "    \"Topics\": \"{0}\\nNow classify the topic\\nOptions 0-19:\\n\" + f\"{topic_options} \",\n",
    "}\n",
    "\n",
    "id2labels = {\n",
    "    \"FPB\": {\"neutral\": \" Neutral\", \"positive\": \" Positive\", \"negative\": \" Negative\"},\n",
    "    \"Headline\": {0: \" No\", 1: \" Yes\"},\n",
    "    \"Topics\": {i: str(i) for i in range(20)},\n",
    "}\n",
    "\n",
    "def train_preprocess(example: dict, max_length=512):\n",
    "    # Create prompt and target text\n",
    "    args = [example[key] for key in dataset_cols[dataset_id]]\n",
    "    prompt = prompt_templates[dataset_id].format(*args)\n",
    "\n",
    "    target = id2labels[dataset_id][example[\"label\"]]\n",
    "    full_text = prompt + target\n",
    "\n",
    "    # tokenize text\n",
    "    tokenized = tokenizer(full_text,\n",
    "                          truncation=True,\n",
    "                          padding=\"max_length\",\n",
    "                          max_length=max_length)\n",
    "    \n",
    "    # add padding tokens\n",
    "    prompt_tokenized = tokenizer(prompt,\n",
    "                              truncation=True,\n",
    "                              max_length=max_length)\n",
    "    prompt_length = len(prompt_tokenized[\"input_ids\"])\n",
    "\n",
    "    labels = tokenized[\"input_ids\"].copy()\n",
    "    labels[:prompt_length] = [-100] * prompt_length\n",
    "    tokenized[\"labels\"] = labels\n",
    "    return tokenized"
   ]
  },
  {
   "cell_type": "code",
   "execution_count": 5,
   "metadata": {},
   "outputs": [
    {
     "data": {
      "application/vnd.jupyter.widget-view+json": {
       "model_id": "2d853652e6e7455da4e3a905a16c3684",
       "version_major": 2,
       "version_minor": 0
      },
      "text/plain": [
       "Map:   0%|          | 0/16140 [00:00<?, ? examples/s]"
      ]
     },
     "metadata": {},
     "output_type": "display_data"
    },
    {
     "data": {
      "application/vnd.jupyter.widget-view+json": {
       "model_id": "8f5483c13c404ba58bb2ef5da91275b3",
       "version_major": 2,
       "version_minor": 0
      },
      "text/plain": [
       "Map:   0%|          | 0/850 [00:00<?, ? examples/s]"
      ]
     },
     "metadata": {},
     "output_type": "display_data"
    }
   ],
   "source": [
    "train_dataset = Dataset.from_pandas(train_dataset).map(train_preprocess, batched=False).remove_columns(names_mapping[dataset_id])\n",
    "val_dataset   = Dataset.from_pandas(test_dataset).map(train_preprocess, batched=False).remove_columns(names_mapping[dataset_id])"
   ]
  },
  {
   "cell_type": "markdown",
   "metadata": {},
   "source": [
    "## LoRA Setup"
   ]
  },
  {
   "cell_type": "code",
   "execution_count": 23,
   "metadata": {},
   "outputs": [
    {
     "name": "stdout",
     "output_type": "stream",
     "text": [
      "trainable params: 851,968 || all params: 1,236,666,368 || trainable%: 0.0689\n"
     ]
    }
   ],
   "source": [
    "peft_config = LoraConfig(\n",
    "    task_type=TaskType.CAUSAL_LM,\n",
    "    r=8,\n",
    "    lora_alpha=16,\n",
    "    lora_dropout=0.01,\n",
    "    target_modules=[\"q_proj\", \"v_proj\"]\n",
    ")\n",
    "\n",
    "peft_model = get_peft_model(base_model, peft_config)\n",
    "peft_model.print_trainable_parameters()"
   ]
  },
  {
   "cell_type": "markdown",
   "metadata": {},
   "source": [
    "## Trainer setup"
   ]
  },
  {
   "cell_type": "code",
   "execution_count": 24,
   "metadata": {},
   "outputs": [],
   "source": [
    "data_collator = DataCollatorForLanguageModeling(\n",
    "    tokenizer=tokenizer, mlm=False\n",
    ")\n",
    "\n",
    "lr = 1e-3\n",
    "num_epochs = 3\n",
    "batch_size = 2\n",
    "\n",
    "out_dir = Path(rf\"D:/models/basic-Llama-3_2-LoRA-{dataset_id}\")\n",
    "training_args = TrainingArguments(\n",
    "    output_dir=str(out_dir),\n",
    "    num_train_epochs=num_epochs,\n",
    "    per_device_train_batch_size=batch_size,\n",
    "    learning_rate=lr,\n",
    "    weight_decay=0.01,\n",
    "    warmup_steps=1000,\n",
    "    save_strategy=\"epoch\",\n",
    "    do_train=True,\n",
    "    do_eval=True,\n",
    ")\n",
    "\n",
    "trainer = Trainer(\n",
    "    model=peft_model,\n",
    "    args=training_args,\n",
    "    train_dataset=train_dataset,\n",
    "    eval_dataset=val_dataset,\n",
    "    data_collator=data_collator,\n",
    ")"
   ]
  },
  {
   "cell_type": "code",
   "execution_count": 25,
   "metadata": {},
   "outputs": [
    {
     "data": {
      "application/vnd.jupyter.widget-view+json": {
       "model_id": "3fed3df8f3214393a72cfc844907ffae",
       "version_major": 2,
       "version_minor": 0
      },
      "text/plain": [
       "  0%|          | 0/24210 [00:00<?, ?it/s]"
      ]
     },
     "metadata": {},
     "output_type": "display_data"
    },
    {
     "name": "stdout",
     "output_type": "stream",
     "text": [
      "{'loss': 0.922, 'grad_norm': 0.6902908682823181, 'learning_rate': 0.0005, 'epoch': 0.06}\n",
      "{'loss': 0.5725, 'grad_norm': 1.516623854637146, 'learning_rate': 0.001, 'epoch': 0.12}\n",
      "{'loss': 0.5981, 'grad_norm': 0.6170763969421387, 'learning_rate': 0.00097845756139595, 'epoch': 0.19}\n",
      "{'loss': 0.5922, 'grad_norm': 0.8993262648582458, 'learning_rate': 0.0009569151227919, 'epoch': 0.25}\n",
      "{'loss': 0.5796, 'grad_norm': 0.833195149898529, 'learning_rate': 0.00093537268418785, 'epoch': 0.31}\n",
      "{'loss': 0.5942, 'grad_norm': 0.7825578451156616, 'learning_rate': 0.0009138302455838002, 'epoch': 0.37}\n",
      "{'loss': 0.5878, 'grad_norm': 1.6565760374069214, 'learning_rate': 0.0008922878069797501, 'epoch': 0.43}\n",
      "{'loss': 0.5877, 'grad_norm': 0.9568967819213867, 'learning_rate': 0.0008707453683757002, 'epoch': 0.5}\n",
      "{'loss': 0.5852, 'grad_norm': 0.9171866178512573, 'learning_rate': 0.0008492029297716502, 'epoch': 0.56}\n",
      "{'loss': 0.5605, 'grad_norm': 1.5932117700576782, 'learning_rate': 0.0008276604911676002, 'epoch': 0.62}\n",
      "{'loss': 0.5594, 'grad_norm': 1.2576360702514648, 'learning_rate': 0.0008061180525635502, 'epoch': 0.68}\n",
      "{'loss': 0.5654, 'grad_norm': 1.1644679307937622, 'learning_rate': 0.0007845756139595002, 'epoch': 0.74}\n",
      "{'loss': 0.5549, 'grad_norm': 0.8551333546638489, 'learning_rate': 0.0007630331753554502, 'epoch': 0.81}\n",
      "{'loss': 0.5563, 'grad_norm': 1.0191880464553833, 'learning_rate': 0.0007414907367514003, 'epoch': 0.87}\n",
      "{'loss': 0.5661, 'grad_norm': 1.633008360862732, 'learning_rate': 0.0007199482981473503, 'epoch': 0.93}\n",
      "{'loss': 0.5551, 'grad_norm': 0.9764044284820557, 'learning_rate': 0.0006984058595433003, 'epoch': 0.99}\n",
      "{'loss': 0.5374, 'grad_norm': 1.2214511632919312, 'learning_rate': 0.0006768634209392503, 'epoch': 1.05}\n",
      "{'loss': 0.5308, 'grad_norm': 1.0353500843048096, 'learning_rate': 0.0006553209823352003, 'epoch': 1.12}\n",
      "{'loss': 0.5318, 'grad_norm': 1.9559788703918457, 'learning_rate': 0.0006337785437311504, 'epoch': 1.18}\n",
      "{'loss': 0.5251, 'grad_norm': 1.215233325958252, 'learning_rate': 0.0006122361051271003, 'epoch': 1.24}\n",
      "{'loss': 0.5524, 'grad_norm': 0.697035014629364, 'learning_rate': 0.0005906936665230505, 'epoch': 1.3}\n",
      "{'loss': 0.5314, 'grad_norm': 1.1649435758590698, 'learning_rate': 0.0005691512279190005, 'epoch': 1.36}\n",
      "{'loss': 0.525, 'grad_norm': 0.9432549476623535, 'learning_rate': 0.0005476087893149505, 'epoch': 1.43}\n",
      "{'loss': 0.5258, 'grad_norm': 0.7528129816055298, 'learning_rate': 0.0005260663507109005, 'epoch': 1.49}\n",
      "{'loss': 0.5149, 'grad_norm': 1.4530543088912964, 'learning_rate': 0.0005045239121068505, 'epoch': 1.55}\n",
      "{'loss': 0.5225, 'grad_norm': 0.8459914326667786, 'learning_rate': 0.0004829814735028005, 'epoch': 1.61}\n",
      "{'loss': 0.5156, 'grad_norm': 0.704366147518158, 'learning_rate': 0.00046143903489875057, 'epoch': 1.67}\n",
      "{'loss': 0.5309, 'grad_norm': 0.8651382923126221, 'learning_rate': 0.0004398965962947006, 'epoch': 1.73}\n",
      "{'loss': 0.4986, 'grad_norm': 1.1257351636886597, 'learning_rate': 0.0004183541576906506, 'epoch': 1.8}\n",
      "{'loss': 0.5157, 'grad_norm': 0.6977696418762207, 'learning_rate': 0.00039681171908660065, 'epoch': 1.86}\n",
      "{'loss': 0.52, 'grad_norm': 1.1041086912155151, 'learning_rate': 0.00037526928048255067, 'epoch': 1.92}\n",
      "{'loss': 0.5102, 'grad_norm': 0.9346396923065186, 'learning_rate': 0.0003537268418785006, 'epoch': 1.98}\n",
      "{'loss': 0.4824, 'grad_norm': 0.576507568359375, 'learning_rate': 0.00033218440327445063, 'epoch': 2.04}\n",
      "{'loss': 0.4837, 'grad_norm': 1.0073840618133545, 'learning_rate': 0.0003106419646704007, 'epoch': 2.11}\n",
      "{'loss': 0.475, 'grad_norm': 0.8445307612419128, 'learning_rate': 0.0002890995260663507, 'epoch': 2.17}\n",
      "{'loss': 0.4646, 'grad_norm': 1.093908429145813, 'learning_rate': 0.0002675570874623007, 'epoch': 2.23}\n",
      "{'loss': 0.4705, 'grad_norm': 0.7291869521141052, 'learning_rate': 0.00024601464885825073, 'epoch': 2.29}\n",
      "{'loss': 0.4758, 'grad_norm': 0.9061248302459717, 'learning_rate': 0.00022447221025420077, 'epoch': 2.35}\n",
      "{'loss': 0.4732, 'grad_norm': 1.1045429706573486, 'learning_rate': 0.0002029297716501508, 'epoch': 2.42}\n",
      "{'loss': 0.4824, 'grad_norm': 0.8540918827056885, 'learning_rate': 0.00018138733304610085, 'epoch': 2.48}\n",
      "{'loss': 0.471, 'grad_norm': 1.1071301698684692, 'learning_rate': 0.00015984489444205083, 'epoch': 2.54}\n",
      "{'loss': 0.4704, 'grad_norm': 1.0197426080703735, 'learning_rate': 0.00013830245583800087, 'epoch': 2.6}\n",
      "{'loss': 0.4733, 'grad_norm': 0.746357262134552, 'learning_rate': 0.00011676001723395088, 'epoch': 2.66}\n",
      "{'loss': 0.4607, 'grad_norm': 0.7701390981674194, 'learning_rate': 9.52175786299009e-05, 'epoch': 2.73}\n",
      "{'loss': 0.4584, 'grad_norm': 1.059674620628357, 'learning_rate': 7.367514002585093e-05, 'epoch': 2.79}\n",
      "{'loss': 0.4684, 'grad_norm': 0.7830989956855774, 'learning_rate': 5.2132701421800946e-05, 'epoch': 2.85}\n",
      "{'loss': 0.4608, 'grad_norm': 1.1831419467926025, 'learning_rate': 3.059026281775097e-05, 'epoch': 2.91}\n",
      "{'loss': 0.4654, 'grad_norm': 1.137230634689331, 'learning_rate': 9.04782421370099e-06, 'epoch': 2.97}\n",
      "{'train_runtime': 9743.2223, 'train_samples_per_second': 4.97, 'train_steps_per_second': 2.485, 'train_loss': 0.5299051214672721, 'epoch': 3.0}\n"
     ]
    },
    {
     "data": {
      "text/plain": [
       "TrainOutput(global_step=24210, training_loss=0.5299051214672721, metrics={'train_runtime': 9743.2223, 'train_samples_per_second': 4.97, 'train_steps_per_second': 2.485, 'total_flos': 1.448785521672192e+17, 'train_loss': 0.5299051214672721, 'epoch': 3.0})"
      ]
     },
     "execution_count": 25,
     "metadata": {},
     "output_type": "execute_result"
    }
   ],
   "source": [
    "trainer.train()"
   ]
  },
  {
   "cell_type": "markdown",
   "metadata": {},
   "source": [
    "# Eval"
   ]
  },
  {
   "cell_type": "code",
   "execution_count": 6,
   "metadata": {},
   "outputs": [],
   "source": [
    "def evaluate(model: PreTrainedModel,\n",
    "             testset: Dataset,\n",
    "             guidance = True,\n",
    "             tok_opts: Optional[list[int]] = None) -> dict[str, float]:\n",
    "\n",
    "    if guidance and tok_opts is None:\n",
    "        raise ValueError(\"Guidance requires token options\")\n",
    "\n",
    "    correct = 0\n",
    "    prog_bar = tqdm(testset)\n",
    "    for i, example in enumerate(prog_bar):\n",
    "        input_ids = torch.tensor(example[\"input_ids\"], device=device)\n",
    "        attn_mask = torch.tensor(example[\"attention_mask\"])\n",
    "        gen_idx = attn_mask.sum(dim=1).long() - 1\n",
    "\n",
    "        out = model.forward(input_ids=input_ids, attention_mask=attn_mask.to(device))\n",
    "        logits = out.logits.cpu()\n",
    "        \n",
    "        gen_logits = logits[torch.arange(logits.size(0)), gen_idx, :] # (B, C)\n",
    "        if guidance:\n",
    "            subset = gen_logits[0, tok_opts]\n",
    "            local_argmax = torch.argmax(subset).item()\n",
    "            gen_tokens = tok_opts[local_argmax]\n",
    "        else:\n",
    "            gen_tokens = torch.argmax(gen_logits, dim=-1)\n",
    "\n",
    "        gen_raw = tokenizer.decode(gen_tokens).strip(\" \")\n",
    "        if example[\"options\"][example[\"gold_index\"]] == gen_raw:\n",
    "            correct += 1\n",
    "\n",
    "        prog_bar.set_description(f\"{100 * correct / (i+1):.2f}\")\n",
    "    \n",
    "    return {\n",
    "        \"accuracy\": correct / len(testset)\n",
    "    }"
   ]
  },
  {
   "cell_type": "markdown",
   "metadata": {},
   "source": [
    "## For FPB and Headline"
   ]
  },
  {
   "cell_type": "code",
   "execution_count": null,
   "metadata": {},
   "outputs": [],
   "source": [
    "def eval_preprocess_a(example, max_length=512):\n",
    "    zeroshot = example['input'].rsplit(\"\\n\\n\", maxsplit=1)[-1]\n",
    "    return tokenizer(zeroshot,\n",
    "                     truncation=True,\n",
    "                     padding=\"max_length\",\n",
    "                     max_length=max_length,\n",
    "                     return_tensors=\"pt\")"
   ]
  },
  {
   "cell_type": "code",
   "execution_count": null,
   "metadata": {},
   "outputs": [
    {
     "data": {
      "application/vnd.jupyter.widget-view+json": {
       "model_id": "33fa42b732954938b98707474367a867",
       "version_major": 2,
       "version_minor": 0
      },
      "text/plain": [
       "Map:   0%|          | 0/20547 [00:00<?, ? examples/s]"
      ]
     },
     "metadata": {},
     "output_type": "display_data"
    }
   ],
   "source": [
    "testset_adaptllm = load_dataset(\"AdaptLLM/finance-tasks\", dataset_id, split=\"test\").map(eval_preprocess_a, batched=False)"
   ]
  },
  {
   "cell_type": "code",
   "execution_count": null,
   "metadata": {},
   "outputs": [],
   "source": [
    "tok_options = {\n",
    "    \"FPB\": [59794, 45003, 51957],    # \" Neutral\", \" Positive\", \" Negative\"\n",
    "    \"Headline\": [7566, 2360],        # \" Yes\", \" No\"\n",
    "}\n",
    "\n",
    "ckpt_path = Path(rf\"D:/models/basic-Llama-3_2-LoRA-{dataset_id}\") / \"checkpoint-best\"\n",
    "\n",
    "base_model = LlamaForCausalLM.from_pretrained(model_id, torch_dtype=\"float16\")\n",
    "expert_model = PeftModel.from_pretrained(base_model, ckpt_path, torch_dtype=\"float16\").eval().to(device)\n",
    "\n",
    "results = evaluate(expert_model,\n",
    "                   testset_adaptllm,\n",
    "                   guidance=True,\n",
    "                   tok_opts=tok_options[dataset_id])\n",
    "print(results)"
   ]
  },
  {
   "cell_type": "markdown",
   "metadata": {},
   "source": [
    "## Topics"
   ]
  },
  {
   "cell_type": "code",
   "execution_count": 11,
   "metadata": {},
   "outputs": [],
   "source": [
    "def eval_preprocess_b(example, max_length=512):\n",
    "    zeroshot = prompt_templates[\"Topics\"].format(example[\"text\"])\n",
    "    return tokenizer(zeroshot,\n",
    "                     truncation=True,\n",
    "                     padding=\"max_length\",\n",
    "                     max_length=max_length,\n",
    "                     return_tensors=\"pt\")\n",
    "\n",
    "topic_options = [str(i) for i in range(len(topics))]\n",
    "def add_options(example):\n",
    "    example[\"options\"] = topic_options\n",
    "    return example"
   ]
  },
  {
   "cell_type": "code",
   "execution_count": 12,
   "metadata": {},
   "outputs": [
    {
     "data": {
      "application/vnd.jupyter.widget-view+json": {
       "model_id": "113c0dc7417e45e0a205fbdfb2c64019",
       "version_major": 2,
       "version_minor": 0
      },
      "text/plain": [
       "Map:   0%|          | 0/850 [00:00<?, ? examples/s]"
      ]
     },
     "metadata": {},
     "output_type": "display_data"
    },
    {
     "data": {
      "application/vnd.jupyter.widget-view+json": {
       "model_id": "35909ad96b0047429a2f421b74927336",
       "version_major": 2,
       "version_minor": 0
      },
      "text/plain": [
       "Map:   0%|          | 0/850 [00:00<?, ? examples/s]"
      ]
     },
     "metadata": {},
     "output_type": "display_data"
    }
   ],
   "source": [
    "testset_df = pd.read_csv(dataset_path / \"test.csv\",\n",
    "                            delimiter=del_mapping[dataset_id],\n",
    "                            names=names_mapping[dataset_id])\n",
    "testset_topics = (Dataset\n",
    "           .from_pandas(testset_df)\n",
    "           .map(eval_preprocess_b, batched=False)\n",
    "           .map(add_options, batched=False)\n",
    "           .rename_column(\"label\", \"gold_index\"))"
   ]
  },
  {
   "cell_type": "code",
   "execution_count": 18,
   "metadata": {},
   "outputs": [],
   "source": [
    "tok_opts_ids = tokenizer(topic_options)[\"input_ids\"]\n",
    "tok_opts = [arr[1] for arr in tok_opts_ids]"
   ]
  },
  {
   "cell_type": "code",
   "execution_count": null,
   "metadata": {},
   "outputs": [
    {
     "name": "stderr",
     "output_type": "stream",
     "text": [
      "85.18: 100%|██████████| 850/850 [03:35<00:00,  3.95it/s]"
     ]
    },
    {
     "name": "stdout",
     "output_type": "stream",
     "text": [
      "{'accuracy': 0.851764705882353}\n"
     ]
    },
    {
     "name": "stderr",
     "output_type": "stream",
     "text": [
      "\n"
     ]
    }
   ],
   "source": [
    "ckpt_path = Path(rf\"D:/models/basic-Llama-3_2-LoRA-Topics\") / \"checkpoint-8070\"\n",
    "\n",
    "base_model = LlamaForCausalLM.from_pretrained(model_id, torch_dtype=\"float16\") #.to(device)\n",
    "expert_model = PeftModel.from_pretrained(base_model, ckpt_path, torch_dtype=\"float16\").eval().to(device)\n",
    "\n",
    "results = evaluate(expert_model,\n",
    "                   testset_topics,\n",
    "                   guidance=True,\n",
    "                   tok_opts=tok_opts)\n",
    "print(results)"
   ]
  },
  {
   "cell_type": "code",
   "execution_count": null,
   "metadata": {},
   "outputs": [],
   "source": []
  }
 ],
 "metadata": {
  "kernelspec": {
   "display_name": "venv",
   "language": "python",
   "name": "python3"
  },
  "language_info": {
   "codemirror_mode": {
    "name": "ipython",
    "version": 3
   },
   "file_extension": ".py",
   "mimetype": "text/x-python",
   "name": "python",
   "nbconvert_exporter": "python",
   "pygments_lexer": "ipython3",
   "version": "3.12.2"
  }
 },
 "nbformat": 4,
 "nbformat_minor": 2
}
