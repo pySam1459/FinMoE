{
 "cells": [
  {
   "cell_type": "code",
   "execution_count": 1,
   "metadata": {},
   "outputs": [],
   "source": [
    "import re\n",
    "from datasets import load_dataset\n",
    "from pathlib import Path\n",
    "\n",
    "seed = 42\n",
    "\n",
    "## change the path depending on your system\n",
    "hub_basepath = Path(r\"C:\\Users\\samba\\.cache\\huggingface\\hub\")"
   ]
  },
  {
   "cell_type": "markdown",
   "metadata": {},
   "source": [
    "## Sentiment Analysis and Question/Answering\n",
    "Sentiment Analysis from [FPB](https://huggingface.co/datasets/AdaptLLM/FPB)</br>\n",
    "Question/Answering from [Headline](https://huggingface.co/datasets/AdaptLLM/Headline)</br>"
   ]
  },
  {
   "cell_type": "code",
   "execution_count": null,
   "metadata": {},
   "outputs": [],
   "source": [
    "## load_dataset raises an error after download due to tab seperated dataset.\n",
    "try:\n",
    "    load_dataset(\"AdaptLLM/FPB\")\n",
    "except: ...\n",
    "try:\n",
    "    load_dataset(\"AdaptLLM/Headline\")\n",
    "except: ..."
   ]
  },
  {
   "cell_type": "markdown",
   "metadata": {},
   "source": [
    "## Topic Classification\n",
    "From huggingface [Sujet-Finance-Instruct-177k](https://huggingface.co/datasets/sujet-ai/Sujet-Finance-Instruct-177k)"
   ]
  },
  {
   "cell_type": "code",
   "execution_count": null,
   "metadata": {},
   "outputs": [],
   "source": [
    "dataset_id = \"sujet-ai/Sujet-Finance-Instruct-177k\"\n",
    "\n",
    "topics = ['Analyst Update', 'Fed | Central Banks', 'Company | Product News', 'Treasuries | Corporate Debt', 'Dividend', 'Earnings', 'Energy | Oil', 'Financials', 'Currencies', 'General News | Opinion', 'Gold | Metals | Materials', 'IPO', 'Legal | Regulation', 'M&A | Investments', 'Macro', 'Markets', 'Politics', 'Personnel Change', 'Stock Commentary', 'Stock Movement']\n",
    "topics_label2id = {label: i for i, label in enumerate(topics)}\n",
    "\n",
    "def topic_class_filter(example):\n",
    "    return example[\"task_type\"] == \"topic_classification\"\n",
    "\n",
    "def topic_mapping(example):\n",
    "    example[\"answer\"] = topics_label2id[example[\"answer\"]]\n",
    "    return example\n",
    "\n",
    "def text_cleaning(example):\n",
    "    example[\"user_prompt\"] = re.sub(r\"https://t.co/.+\", \"\", example[\"user_prompt\"]).strip(\" \")\n",
    "    return example\n",
    "\n",
    "rmv_cols = [\"Unnamed: 0\", \"inputs\", \"system_prompt\", \"task_type\", \"dataset\", \"index_level\", \"conversation_id\"]\n",
    "rnm_cols = {\"answer\": \"label\", \"user_prompt\": \"text\"}\n",
    "\n",
    "dataset = (load_dataset(dataset_id, split=\"train\")\n",
    "            .filter(topic_class_filter)\n",
    "            .map(topic_mapping)\n",
    "            .map(text_cleaning)\n",
    "            .remove_columns(rmv_cols)\n",
    "            .rename_columns(rnm_cols))\n",
    "dataset = dataset.train_test_split(test_size=0.05, seed=seed)\n",
    "dataset"
   ]
  },
  {
   "cell_type": "code",
   "execution_count": null,
   "metadata": {},
   "outputs": [],
   "source": [
    "dataset[\"train\"].to_csv(hub_basepath / \"datasets--Sujet--TopicClassification\" / \"train.csv\", header=False)\n",
    "dataset[\"test\"].to_csv(hub_basepath / \"datasets--Sujet--TopicClassification\" / \"test.csv\", header=False)"
   ]
  },
  {
   "cell_type": "code",
   "execution_count": null,
   "metadata": {},
   "outputs": [],
   "source": []
  }
 ],
 "metadata": {
  "kernelspec": {
   "display_name": "venv",
   "language": "python",
   "name": "python3"
  },
  "language_info": {
   "codemirror_mode": {
    "name": "ipython",
    "version": 3
   },
   "file_extension": ".py",
   "mimetype": "text/x-python",
   "name": "python",
   "nbconvert_exporter": "python",
   "pygments_lexer": "ipython3",
   "version": "3.12.2"
  }
 },
 "nbformat": 4,
 "nbformat_minor": 2
}
