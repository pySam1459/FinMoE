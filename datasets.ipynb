{
 "cells": [
  {
   "cell_type": "code",
   "execution_count": null,
   "metadata": {},
   "outputs": [],
   "source": [
    "import re\n",
    "from datasets import load_dataset\n",
    "from pathlib import Path\n",
    "\n",
    "seed = 42\n",
    "\n",
    "## change the path depending on your system\n",
    "hub_basepath = Path(r\"C:\\Users\\samba\\.cache\\huggingface\\hub\")"
   ]
  },
  {
   "cell_type": "markdown",
   "metadata": {},
   "source": [
    "## Sentiment Analysis and Question/Answering\n",
    "Sentiment Analysis from [FPB](https://huggingface.co/datasets/AdaptLLM/FPB)</br>\n",
    "Question/Answering from [Headline](https://huggingface.co/datasets/AdaptLLM/Headline)</br>"
   ]
  },
  {
   "cell_type": "code",
   "execution_count": 3,
   "metadata": {},
   "outputs": [
    {
     "data": {
      "application/vnd.jupyter.widget-view+json": {
       "model_id": "d0a2135e13cd409a96b7e13088142000",
       "version_major": 2,
       "version_minor": 0
      },
      "text/plain": [
       "Generating train split: 0 examples [00:00, ? examples/s]"
      ]
     },
     "metadata": {},
     "output_type": "display_data"
    },
    {
     "name": "stderr",
     "output_type": "stream",
     "text": [
      "Failed to read file 'C:\\Users\\samba\\.cache\\huggingface\\hub\\datasets--AdaptLLM--FPB\\snapshots\\7f203bd82f0b2b01ce391b9451c642dd732cf381\\train.csv' with error <class 'pandas.errors.ParserError'>: Error tokenizing data. C error: Expected 3 fields in line 11, saw 5\n",
      "\n"
     ]
    },
    {
     "data": {
      "application/vnd.jupyter.widget-view+json": {
       "model_id": "52aeb8d2b3684341859bcc96103ed635",
       "version_major": 2,
       "version_minor": 0
      },
      "text/plain": [
       "README.md:   0%|          | 0.00/6.62k [00:00<?, ?B/s]"
      ]
     },
     "metadata": {},
     "output_type": "display_data"
    },
    {
     "name": "stderr",
     "output_type": "stream",
     "text": [
      "c:\\Users\\samba\\OneDrive - Durham University\\L4\\Project\\code\\venv\\Lib\\site-packages\\huggingface_hub\\file_download.py:139: UserWarning: `huggingface_hub` cache-system uses symlinks by default to efficiently store duplicated files but your machine does not support them in C:\\Users\\samba\\.cache\\huggingface\\hub\\datasets--AdaptLLM--Headline. Caching files will still work but in a degraded version that might require more space on your disk. This warning can be disabled by setting the `HF_HUB_DISABLE_SYMLINKS_WARNING` environment variable. For more details, see https://huggingface.co/docs/huggingface_hub/how-to-cache#limitations.\n",
      "To support symlinks on Windows, you either need to activate Developer Mode or to run Python as an administrator. In order to activate developer mode, see this article: https://docs.microsoft.com/en-us/windows/apps/get-started/enable-your-device-for-development\n",
      "  warnings.warn(message)\n"
     ]
    },
    {
     "data": {
      "application/vnd.jupyter.widget-view+json": {
       "model_id": "5bc2ccd9979746dea3acfb4cffd8deee",
       "version_major": 2,
       "version_minor": 0
      },
      "text/plain": [
       "train.csv:   0%|          | 0.00/9.87M [00:00<?, ?B/s]"
      ]
     },
     "metadata": {},
     "output_type": "display_data"
    },
    {
     "data": {
      "application/vnd.jupyter.widget-view+json": {
       "model_id": "752f21ce3df9490f9e09ef6ea635da51",
       "version_major": 2,
       "version_minor": 0
      },
      "text/plain": [
       "test.csv:   0%|          | 0.00/2.46M [00:00<?, ?B/s]"
      ]
     },
     "metadata": {},
     "output_type": "display_data"
    },
    {
     "data": {
      "application/vnd.jupyter.widget-view+json": {
       "model_id": "cdbe17f627d04482b91734409ad8269e",
       "version_major": 2,
       "version_minor": 0
      },
      "text/plain": [
       "Generating train split: 0 examples [00:00, ? examples/s]"
      ]
     },
     "metadata": {},
     "output_type": "display_data"
    },
    {
     "name": "stderr",
     "output_type": "stream",
     "text": [
      "Failed to read file 'C:\\Users\\samba\\.cache\\huggingface\\hub\\datasets--AdaptLLM--Headline\\snapshots\\68cf1056f3ed51d39b945d004259473759555559\\train.csv' with error <class 'pandas.errors.ParserError'>: Error tokenizing data. C error: Expected 1 fields in line 10, saw 4\n",
      "\n"
     ]
    }
   ],
   "source": [
    "## load_dataset raises an error after download due to tab seperated dataset.\n",
    "try:\n",
    "    load_dataset(\"AdaptLLM/FPB\")\n",
    "except: ...\n",
    "try:\n",
    "    load_dataset(\"AdaptLLM/Headline\")\n",
    "except: ..."
   ]
  },
  {
   "cell_type": "markdown",
   "metadata": {},
   "source": [
    "## Topic Classification\n",
    "From huggingface [Sujet-Finance-Instruct-177k](https://huggingface.co/datasets/sujet-ai/Sujet-Finance-Instruct-177k)"
   ]
  },
  {
   "cell_type": "code",
   "execution_count": null,
   "metadata": {},
   "outputs": [
    {
     "data": {
      "application/vnd.jupyter.widget-view+json": {
       "model_id": "3faa5ddd1ea94fe0a445fdce1a9bdb74",
       "version_major": 2,
       "version_minor": 0
      },
      "text/plain": [
       "Map:   0%|          | 0/16990 [00:00<?, ? examples/s]"
      ]
     },
     "metadata": {},
     "output_type": "display_data"
    },
    {
     "data": {
      "application/vnd.jupyter.widget-view+json": {
       "model_id": "1dc59e721b7b49f3b3201729ff65ccdb",
       "version_major": 2,
       "version_minor": 0
      },
      "text/plain": [
       "Map:   0%|          | 0/16990 [00:00<?, ? examples/s]"
      ]
     },
     "metadata": {},
     "output_type": "display_data"
    },
    {
     "data": {
      "text/plain": [
       "DatasetDict({\n",
       "    train: Dataset({\n",
       "        features: ['label', 'text'],\n",
       "        num_rows: 16140\n",
       "    })\n",
       "    test: Dataset({\n",
       "        features: ['label', 'text'],\n",
       "        num_rows: 850\n",
       "    })\n",
       "})"
      ]
     },
     "execution_count": 2,
     "metadata": {},
     "output_type": "execute_result"
    }
   ],
   "source": [
    "dataset_id = \"sujet-ai/Sujet-Finance-Instruct-177k\"\n",
    "\n",
    "topics = ['Analyst Update', 'Fed | Central Banks', 'Company | Product News', 'Treasuries | Corporate Debt', 'Dividend', 'Earnings', 'Energy | Oil', 'Financials', 'Currencies', 'General News | Opinion', 'Gold | Metals | Materials', 'IPO', 'Legal | Regulation', 'M&A | Investments', 'Macro', 'Markets', 'Politics', 'Personnel Change', 'Stock Commentary', 'Stock Movement']\n",
    "topics_label2id = {label: i for i, label in enumerate(topics)}\n",
    "\n",
    "def topic_class_filter(example):\n",
    "    return example[\"task_type\"] == \"topic_classification\"\n",
    "\n",
    "def topic_mapping(example):\n",
    "    example[\"answer\"] = topics_label2id[example[\"answer\"]]\n",
    "    return example\n",
    "\n",
    "def text_cleaning(example):\n",
    "    example[\"user_prompt\"] = re.sub(r\"https://t.co/.+\", \"\", example[\"user_prompt\"]).strip(\" \")\n",
    "    return example\n",
    "\n",
    "rmv_cols = [\"Unnamed: 0\", \"inputs\", \"system_prompt\", \"task_type\", \"dataset\", \"index_level\", \"conversation_id\"]\n",
    "rnm_cols = {\"answer\": \"label\", \"user_prompt\": \"text\"}\n",
    "\n",
    "dataset = (load_dataset(dataset_id, split=\"train\")\n",
    "            .filter(topic_class_filter)\n",
    "            .map(topic_mapping)\n",
    "            .map(text_cleaning)\n",
    "            .remove_columns(rmv_cols)\n",
    "            .rename_columns(rnm_cols))\n",
    "dataset = dataset.train_test_split(test_size=0.05, seed=seed)\n",
    "dataset"
   ]
  },
  {
   "cell_type": "code",
   "execution_count": null,
   "metadata": {},
   "outputs": [
    {
     "data": {
      "application/vnd.jupyter.widget-view+json": {
       "model_id": "33de66c0c96e48fea1bf8ca9672fcaf2",
       "version_major": 2,
       "version_minor": 0
      },
      "text/plain": [
       "Creating CSV from Arrow format:   0%|          | 0/17 [00:00<?, ?ba/s]"
      ]
     },
     "metadata": {},
     "output_type": "display_data"
    },
    {
     "data": {
      "application/vnd.jupyter.widget-view+json": {
       "model_id": "8a1273492288436a9435a922e1258d31",
       "version_major": 2,
       "version_minor": 0
      },
      "text/plain": [
       "Creating CSV from Arrow format:   0%|          | 0/1 [00:00<?, ?ba/s]"
      ]
     },
     "metadata": {},
     "output_type": "display_data"
    },
    {
     "data": {
      "text/plain": [
       "88000"
      ]
     },
     "execution_count": 3,
     "metadata": {},
     "output_type": "execute_result"
    }
   ],
   "source": [
    "dataset[\"train\"].to_csv(hub_basepath / \"datasets--Sujet--TopicClassification\" / \"train.csv\", header=False)\n",
    "dataset[\"test\"].to_csv(hub_basepath / \"datasets--Sujet--TopicClassification\" / \"test.csv\", header=False)"
   ]
  }
 ],
 "metadata": {
  "kernelspec": {
   "display_name": "venv",
   "language": "python",
   "name": "python3"
  },
  "language_info": {
   "codemirror_mode": {
    "name": "ipython",
    "version": 3
   },
   "file_extension": ".py",
   "mimetype": "text/x-python",
   "name": "python",
   "nbconvert_exporter": "python",
   "pygments_lexer": "ipython3",
   "version": "3.12.2"
  }
 },
 "nbformat": 4,
 "nbformat_minor": 2
}
